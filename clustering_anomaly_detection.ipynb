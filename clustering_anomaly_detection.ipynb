{
 "cells": [
  {
   "cell_type": "code",
   "execution_count": 2,
   "id": "115bfc2f",
   "metadata": {},
   "outputs": [],
   "source": [
    "import warnings\n",
    "warnings.filterwarnings(\"ignore\")\n",
    "\n",
    "import matplotlib.pyplot as plt\n",
    "import seaborn as sns\n",
    "import numpy as np\n",
    "import pandas as pd\n",
    "import os\n",
    "import itertools\n",
    "\n",
    "\n",
    "# DBSCAN import\n",
    "from sklearn.cluster import DBSCAN\n",
    "\n",
    "# Scaler import\n",
    "from sklearn.preprocessing import MinMaxScaler\n"
   ]
  },
  {
   "cell_type": "code",
   "execution_count": 3,
   "id": "18caa36f",
   "metadata": {},
   "outputs": [],
   "source": [
    "def get_connection_url(db, username=os.getenv('sqlUSER'), host=os.getenv('sqlHOST'), password=os.getenv('sqlPSWD')):\n",
    "    \"\"\"\n",
    "    This function will:\n",
    "    - take username, pswd, host credentials from imported env module\n",
    "    - output a formatted connection_url\n",
    "    \"\"\"\n",
    "    return f'mysql+pymysql://{username}:{password}@{host}/{db}'"
   ]
  },
  {
   "cell_type": "code",
   "execution_count": 4,
   "id": "1de6942e",
   "metadata": {},
   "outputs": [],
   "source": [
    "from env import host, username, password\n",
    "\n",
    "def get_connection_url(database, host=host, user=username, password=password):\n",
    "    return f'mysql+pymysql://{user}:{password}@{host}/{database}'"
   ]
  },
  {
   "cell_type": "markdown",
   "id": "72185e05",
   "metadata": {},
   "source": [
    "### Clustering - DBSCAN\n",
    "\n",
    "### 1. Use DBSCAN to detect anomalies in other products from the `customers` dataset. The database name is `grocery_db`."
   ]
  },
  {
   "cell_type": "code",
   "execution_count": null,
   "id": "179d60b3",
   "metadata": {},
   "outputs": [],
   "source": [
    "url = get_connection_url(\"grocery_db\")\n",
    "\n",
    "sql = \"\"\"\n",
    "select *\n",
    "from grocery_customers\n",
    "\"\"\"\n",
    "\n",
    "df = pd.read_sql(sql, url, index_col=\"customer_id\")\n",
    "df.head()"
   ]
  },
  {
   "cell_type": "code",
   "execution_count": null,
   "id": "6b35a205",
   "metadata": {},
   "outputs": [],
   "source": [
    "# select variables -- Cluster on all or a selected subset of features\n",
    "fdd = df[[\"Frozen\", \"Detergents_Paper\", \"Delicassen\"]]\n",
    "fdd.head()"
   ]
  },
  {
   "cell_type": "code",
   "execution_count": null,
   "id": "f90d90b3",
   "metadata": {},
   "outputs": [],
   "source": [
    "# convert to array & dtype\n",
    "df.info()"
   ]
  },
  {
   "cell_type": "code",
   "execution_count": null,
   "id": "91a8c5cc",
   "metadata": {},
   "outputs": [],
   "source": [
    "fdd.iloc[0]"
   ]
  },
  {
   "cell_type": "code",
   "execution_count": null,
   "id": "5df4b727",
   "metadata": {},
   "outputs": [],
   "source": [
    "fdd.values.astype(\"float32\", copy=False)[0]"
   ]
  },
  {
   "cell_type": "code",
   "execution_count": null,
   "id": "57e99e83",
   "metadata": {},
   "outputs": [],
   "source": [
    "#convert to an array and turn into float\n",
    "np_array = fdd.values.astype(\"float32\", copy=False)"
   ]
  },
  {
   "cell_type": "code",
   "execution_count": null,
   "id": "352a764d",
   "metadata": {},
   "outputs": [],
   "source": [
    "# MAKE the scaler\n",
    "mms = MinMaxScaler()\n",
    "\n",
    "# FIT/transform the scaler\n",
    "fdd_scaled = mms.fit_transform(np_array)\n",
    "\n",
    "fdd_scaled"
   ]
  },
  {
   "cell_type": "code",
   "execution_count": null,
   "id": "ce9b01d5",
   "metadata": {},
   "outputs": [],
   "source": [
    "# list of column names\n",
    "fdd.columns"
   ]
  },
  {
   "cell_type": "code",
   "execution_count": null,
   "id": "cd7bb2ae",
   "metadata": {},
   "outputs": [],
   "source": [
    "# Now, let's add the scaled value columns back onto the dataframe\n",
    "scaled_columns =[\"Scaled_\" + column for column in fdd.columns]"
   ]
  },
  {
   "cell_type": "code",
   "execution_count": null,
   "id": "b0d87699",
   "metadata": {},
   "outputs": [],
   "source": [
    "# Save a copy of the original dataframe\n",
    "original_df = df.copy()"
   ]
  },
  {
   "cell_type": "code",
   "execution_count": null,
   "id": "265e6fe0",
   "metadata": {},
   "outputs": [],
   "source": [
    "# Create a dataframe containing the scaled array of values\n",
    "scaled_df = pd.DataFrame(fdd_scaled, columns=scaled_columns)"
   ]
  },
  {
   "cell_type": "code",
   "execution_count": null,
   "id": "18cf78b0",
   "metadata": {},
   "outputs": [],
   "source": [
    "scaled_df"
   ]
  },
  {
   "cell_type": "code",
   "execution_count": null,
   "id": "8977fa16",
   "metadata": {},
   "outputs": [],
   "source": [
    "# Merge the scaled and non-scaled values into one dataframe\n",
    "df = df.merge(scaled_df, on=df.index)\n",
    "df = df.drop(columns=[\"key_0\"])"
   ]
  },
  {
   "cell_type": "code",
   "execution_count": null,
   "id": "0991fdb4",
   "metadata": {},
   "outputs": [],
   "source": [
    "df.head()"
   ]
  },
  {
   "cell_type": "code",
   "execution_count": null,
   "id": "9094a977",
   "metadata": {},
   "outputs": [],
   "source": [
    "# create DBSCAN -- Make the object\n",
    "dbsc = DBSCAN(eps = .1, min_samples=20)\n",
    "\n",
    "# Fit the object\n",
    "dbsc.fit(fdd_scaled)"
   ]
  },
  {
   "cell_type": "code",
   "execution_count": null,
   "id": "ea220838",
   "metadata": {},
   "outputs": [],
   "source": [
    "# cluster labels for each point\n",
    "dbsc.labels_"
   ]
  },
  {
   "cell_type": "code",
   "execution_count": null,
   "id": "8643ae2f",
   "metadata": {},
   "outputs": [],
   "source": [
    "# Assign the cluster labels\n",
    "df['fdd_labels'] = dbsc.labels_"
   ]
  },
  {
   "cell_type": "code",
   "execution_count": null,
   "id": "f70b1b87",
   "metadata": {},
   "outputs": [],
   "source": [
    "#see what this dataframe looks like\n",
    "df.sample(5)"
   ]
  },
  {
   "cell_type": "code",
   "execution_count": null,
   "id": "3e468189",
   "metadata": {},
   "outputs": [],
   "source": [
    "#let's see what labels holds\n",
    "df.fdd_labels.value_counts()"
   ]
  },
  {
   "cell_type": "code",
   "execution_count": null,
   "id": "849866b2",
   "metadata": {},
   "outputs": [],
   "source": [
    "for combination in itertools.combinations(fdd.columns, 2):\n",
    "    print(combination)"
   ]
  },
  {
   "cell_type": "code",
   "execution_count": null,
   "id": "06af749f",
   "metadata": {},
   "outputs": [],
   "source": [
    "for combination in itertools.combinations(fdd.columns, 2):\n",
    "    sns.scatterplot(df[combination[0]], df[combination[1]], hue= df.fdd_labels)\n",
    "    plt.title(f\"{combination[0]} by {combination[1]} Cluster vs. Otliers\")\n",
    "    plt.show()"
   ]
  },
  {
   "cell_type": "markdown",
   "id": "f9d9b041",
   "metadata": {},
   "source": [
    "### 2. Use DBSCAN to detect anomalies in requests from the curriculum access logs in the `curriculum_logs` database.\n"
   ]
  },
  {
   "cell_type": "code",
   "execution_count": null,
   "id": "a1a70380",
   "metadata": {},
   "outputs": [],
   "source": [
    "url = get_connection_url(\"curriculum_logs\")\n",
    "\n",
    "query = '''\n",
    "SELECT date,\n",
    "       path as endpoint,\n",
    "       user_id,\n",
    "       cohort_id,\n",
    "       ip as source_ip\n",
    "FROM logs;\n",
    "'''\n",
    "\n",
    "df = pd.read_sql(sql, url)\n",
    "df.head()"
   ]
  },
  {
   "cell_type": "code",
   "execution_count": null,
   "id": "fec3ca2b",
   "metadata": {},
   "outputs": [],
   "source": [
    "df.info()"
   ]
  },
  {
   "cell_type": "code",
   "execution_count": null,
   "id": "a8dcb86b",
   "metadata": {},
   "outputs": [],
   "source": [
    "# Cluster on all or a selected subset of features\n",
    "uc = df[[\"user_id\", \"cohort_id\"]]\n"
   ]
  },
  {
   "cell_type": "code",
   "execution_count": null,
   "id": "fdfd0aaa",
   "metadata": {},
   "outputs": [],
   "source": [
    "uc.iloc[0]"
   ]
  },
  {
   "cell_type": "code",
   "execution_count": null,
   "id": "29aad437",
   "metadata": {},
   "outputs": [],
   "source": [
    "#convert to an array and turn into float\n",
    "np_array = uc.values.astype(\"float32\", copy=False)"
   ]
  },
  {
   "cell_type": "code",
   "execution_count": null,
   "id": "7c0a8396",
   "metadata": {},
   "outputs": [],
   "source": [
    "# MAKE the scaler\n",
    "mms = MinMaxScaler()\n",
    "\n",
    "# FIT/transform the scaler\n",
    "uc_scaled = mms.fit_transform(np_array)\n",
    "\n",
    "uc_scaled"
   ]
  },
  {
   "cell_type": "code",
   "execution_count": null,
   "id": "1315ef4b",
   "metadata": {},
   "outputs": [],
   "source": [
    "# Now, let's add the scaled value columns back onto the dataframe\n",
    "scaled_columns = [\"Scaled_\" + column for column in uc.columns]"
   ]
  },
  {
   "cell_type": "code",
   "execution_count": null,
   "id": "431ff60a",
   "metadata": {},
   "outputs": [],
   "source": [
    "# Save a copy of the original dataframe\n",
    "original_df = df.copy()"
   ]
  },
  {
   "cell_type": "code",
   "execution_count": null,
   "id": "b0a0b319",
   "metadata": {},
   "outputs": [],
   "source": [
    "# Create a dataframe containing the scaled array of values\n",
    "scaled_df = pd.DataFrame(uc_scaled, columns=scaled_columns)"
   ]
  },
  {
   "cell_type": "code",
   "execution_count": null,
   "id": "cf8bc3a7",
   "metadata": {},
   "outputs": [],
   "source": [
    "uc_scaled"
   ]
  },
  {
   "cell_type": "code",
   "execution_count": null,
   "id": "0374992d",
   "metadata": {},
   "outputs": [],
   "source": [
    "# # Make the object\n",
    "# dbsc = DBSCAN(eps = .01, min_samples=2)\n",
    "\n",
    "# # Fit the object\n",
    "# dbsc.fit(uc_scaled)"
   ]
  },
  {
   "cell_type": "code",
   "execution_count": null,
   "id": "c7bd61a0",
   "metadata": {},
   "outputs": [],
   "source": [
    "# Now, let's add the scaled value columns back onto the dataframe\n",
    "scaled_columns = [\"Scaled_\" + column for column in uc.columns]"
   ]
  },
  {
   "cell_type": "code",
   "execution_count": null,
   "id": "f574d609",
   "metadata": {},
   "outputs": [],
   "source": [
    "test = pd.DataFrame(uc_scaled)\n",
    "test[test.isnull()]"
   ]
  },
  {
   "cell_type": "code",
   "execution_count": null,
   "id": "bceb4057",
   "metadata": {},
   "outputs": [],
   "source": [
    "# Make the object\n",
    "dbsc = DBSCAN(eps = .1, min_samples=10)\n",
    "\n",
    "# Fit the object\n",
    "dbsc.fit(uc_scaled)"
   ]
  },
  {
   "cell_type": "code",
   "execution_count": null,
   "id": "f7e5c5a9",
   "metadata": {},
   "outputs": [],
   "source": [
    "df.head()"
   ]
  },
  {
   "cell_type": "markdown",
   "id": "8774f987",
   "metadata": {},
   "source": [
    "### 3. Use DBSCAN to detect anomalies in number of bedrooms and finished square feet of property for the filtered dataset you used in the <a href=\"https://ds.codeup.com/clustering/explore/#exercises\">clustering evaluation exercises</a> (single unit properties with a logerror)."
   ]
  },
  {
   "cell_type": "code",
   "execution_count": 5,
   "id": "31ff1e73",
   "metadata": {},
   "outputs": [],
   "source": [
    "import wrangle as w"
   ]
  },
  {
   "cell_type": "code",
   "execution_count": 6,
   "id": "8a0bca4a",
   "metadata": {},
   "outputs": [
    {
     "name": "stdout",
     "output_type": "stream",
     "text": [
      "1590 outliers removed from bedroom.\n",
      "8559 outliers removed from bathroom.\n",
      "4412 outliers removed from area.\n",
      "18673 outliers removed from property_value.\n",
      "16 outliers removed from year.\n",
      "21610 outliers removed from tax.\n",
      "\n",
      "Total of 54860 outliers removed.\n"
     ]
    }
   ],
   "source": [
    "df = w.get_data()\n",
    "df = w.clean_zillow()"
   ]
  },
  {
   "cell_type": "code",
   "execution_count": 7,
   "id": "49ea0891",
   "metadata": {},
   "outputs": [
    {
     "data": {
      "text/html": [
       "<div>\n",
       "<style scoped>\n",
       "    .dataframe tbody tr th:only-of-type {\n",
       "        vertical-align: middle;\n",
       "    }\n",
       "\n",
       "    .dataframe tbody tr th {\n",
       "        vertical-align: top;\n",
       "    }\n",
       "\n",
       "    .dataframe thead th {\n",
       "        text-align: right;\n",
       "    }\n",
       "</style>\n",
       "<table border=\"1\" class=\"dataframe\">\n",
       "  <thead>\n",
       "    <tr style=\"text-align: right;\">\n",
       "      <th></th>\n",
       "      <th>bedroom</th>\n",
       "      <th>bathroom</th>\n",
       "      <th>area</th>\n",
       "      <th>property_value</th>\n",
       "      <th>year</th>\n",
       "      <th>tax</th>\n",
       "      <th>fips</th>\n",
       "      <th>orange</th>\n",
       "      <th>ventura</th>\n",
       "    </tr>\n",
       "  </thead>\n",
       "  <tbody>\n",
       "    <tr>\n",
       "      <th>4</th>\n",
       "      <td>4.0</td>\n",
       "      <td>2.0</td>\n",
       "      <td>3633.0</td>\n",
       "      <td>296425.0</td>\n",
       "      <td>2005.0</td>\n",
       "      <td>6941.39</td>\n",
       "      <td>LA</td>\n",
       "      <td>0</td>\n",
       "      <td>0</td>\n",
       "    </tr>\n",
       "    <tr>\n",
       "      <th>6</th>\n",
       "      <td>3.0</td>\n",
       "      <td>4.0</td>\n",
       "      <td>1620.0</td>\n",
       "      <td>847770.0</td>\n",
       "      <td>2011.0</td>\n",
       "      <td>10244.94</td>\n",
       "      <td>LA</td>\n",
       "      <td>0</td>\n",
       "      <td>0</td>\n",
       "    </tr>\n",
       "    <tr>\n",
       "      <th>7</th>\n",
       "      <td>3.0</td>\n",
       "      <td>2.0</td>\n",
       "      <td>2077.0</td>\n",
       "      <td>646760.0</td>\n",
       "      <td>1926.0</td>\n",
       "      <td>7924.68</td>\n",
       "      <td>LA</td>\n",
       "      <td>0</td>\n",
       "      <td>0</td>\n",
       "    </tr>\n",
       "    <tr>\n",
       "      <th>11</th>\n",
       "      <td>0.0</td>\n",
       "      <td>0.0</td>\n",
       "      <td>1200.0</td>\n",
       "      <td>5328.0</td>\n",
       "      <td>1972.0</td>\n",
       "      <td>91.60</td>\n",
       "      <td>LA</td>\n",
       "      <td>0</td>\n",
       "      <td>0</td>\n",
       "    </tr>\n",
       "    <tr>\n",
       "      <th>14</th>\n",
       "      <td>0.0</td>\n",
       "      <td>0.0</td>\n",
       "      <td>171.0</td>\n",
       "      <td>6920.0</td>\n",
       "      <td>1973.0</td>\n",
       "      <td>255.17</td>\n",
       "      <td>LA</td>\n",
       "      <td>0</td>\n",
       "      <td>0</td>\n",
       "    </tr>\n",
       "    <tr>\n",
       "      <th>...</th>\n",
       "      <td>...</td>\n",
       "      <td>...</td>\n",
       "      <td>...</td>\n",
       "      <td>...</td>\n",
       "      <td>...</td>\n",
       "      <td>...</td>\n",
       "      <td>...</td>\n",
       "      <td>...</td>\n",
       "      <td>...</td>\n",
       "    </tr>\n",
       "    <tr>\n",
       "      <th>2152856</th>\n",
       "      <td>4.0</td>\n",
       "      <td>4.0</td>\n",
       "      <td>4375.0</td>\n",
       "      <td>422400.0</td>\n",
       "      <td>2015.0</td>\n",
       "      <td>13877.56</td>\n",
       "      <td>LA</td>\n",
       "      <td>0</td>\n",
       "      <td>0</td>\n",
       "    </tr>\n",
       "    <tr>\n",
       "      <th>2152858</th>\n",
       "      <td>4.0</td>\n",
       "      <td>3.0</td>\n",
       "      <td>2262.0</td>\n",
       "      <td>960756.0</td>\n",
       "      <td>2015.0</td>\n",
       "      <td>13494.52</td>\n",
       "      <td>Orange</td>\n",
       "      <td>1</td>\n",
       "      <td>0</td>\n",
       "    </tr>\n",
       "    <tr>\n",
       "      <th>2152859</th>\n",
       "      <td>4.0</td>\n",
       "      <td>4.5</td>\n",
       "      <td>3127.0</td>\n",
       "      <td>536061.0</td>\n",
       "      <td>2014.0</td>\n",
       "      <td>6244.16</td>\n",
       "      <td>Orange</td>\n",
       "      <td>1</td>\n",
       "      <td>0</td>\n",
       "    </tr>\n",
       "    <tr>\n",
       "      <th>2152861</th>\n",
       "      <td>3.0</td>\n",
       "      <td>2.5</td>\n",
       "      <td>1974.0</td>\n",
       "      <td>424353.0</td>\n",
       "      <td>2015.0</td>\n",
       "      <td>5302.70</td>\n",
       "      <td>Orange</td>\n",
       "      <td>1</td>\n",
       "      <td>0</td>\n",
       "    </tr>\n",
       "    <tr>\n",
       "      <th>2152862</th>\n",
       "      <td>4.0</td>\n",
       "      <td>4.0</td>\n",
       "      <td>2110.0</td>\n",
       "      <td>554009.0</td>\n",
       "      <td>2014.0</td>\n",
       "      <td>6761.20</td>\n",
       "      <td>LA</td>\n",
       "      <td>0</td>\n",
       "      <td>0</td>\n",
       "    </tr>\n",
       "  </tbody>\n",
       "</table>\n",
       "<p>2085375 rows × 9 columns</p>\n",
       "</div>"
      ],
      "text/plain": [
       "         bedroom  bathroom    area  property_value    year       tax    fips  \\\n",
       "4            4.0       2.0  3633.0        296425.0  2005.0   6941.39      LA   \n",
       "6            3.0       4.0  1620.0        847770.0  2011.0  10244.94      LA   \n",
       "7            3.0       2.0  2077.0        646760.0  1926.0   7924.68      LA   \n",
       "11           0.0       0.0  1200.0          5328.0  1972.0     91.60      LA   \n",
       "14           0.0       0.0   171.0          6920.0  1973.0    255.17      LA   \n",
       "...          ...       ...     ...             ...     ...       ...     ...   \n",
       "2152856      4.0       4.0  4375.0        422400.0  2015.0  13877.56      LA   \n",
       "2152858      4.0       3.0  2262.0        960756.0  2015.0  13494.52  Orange   \n",
       "2152859      4.0       4.5  3127.0        536061.0  2014.0   6244.16  Orange   \n",
       "2152861      3.0       2.5  1974.0        424353.0  2015.0   5302.70  Orange   \n",
       "2152862      4.0       4.0  2110.0        554009.0  2014.0   6761.20      LA   \n",
       "\n",
       "         orange  ventura  \n",
       "4             0        0  \n",
       "6             0        0  \n",
       "7             0        0  \n",
       "11            0        0  \n",
       "14            0        0  \n",
       "...         ...      ...  \n",
       "2152856       0        0  \n",
       "2152858       1        0  \n",
       "2152859       1        0  \n",
       "2152861       1        0  \n",
       "2152862       0        0  \n",
       "\n",
       "[2085375 rows x 9 columns]"
      ]
     },
     "execution_count": 7,
     "metadata": {},
     "output_type": "execute_result"
    }
   ],
   "source": [
    "df"
   ]
  },
  {
   "cell_type": "code",
   "execution_count": 42,
   "id": "ed76ff39",
   "metadata": {},
   "outputs": [
    {
     "data": {
      "text/html": [
       "<div>\n",
       "<style scoped>\n",
       "    .dataframe tbody tr th:only-of-type {\n",
       "        vertical-align: middle;\n",
       "    }\n",
       "\n",
       "    .dataframe tbody tr th {\n",
       "        vertical-align: top;\n",
       "    }\n",
       "\n",
       "    .dataframe thead th {\n",
       "        text-align: right;\n",
       "    }\n",
       "</style>\n",
       "<table border=\"1\" class=\"dataframe\">\n",
       "  <thead>\n",
       "    <tr style=\"text-align: right;\">\n",
       "      <th></th>\n",
       "      <th>area</th>\n",
       "      <th>bedroom</th>\n",
       "    </tr>\n",
       "  </thead>\n",
       "  <tbody>\n",
       "    <tr>\n",
       "      <th>0</th>\n",
       "      <td>3633.0</td>\n",
       "      <td>4.0</td>\n",
       "    </tr>\n",
       "    <tr>\n",
       "      <th>1</th>\n",
       "      <td>1620.0</td>\n",
       "      <td>3.0</td>\n",
       "    </tr>\n",
       "    <tr>\n",
       "      <th>2</th>\n",
       "      <td>2077.0</td>\n",
       "      <td>3.0</td>\n",
       "    </tr>\n",
       "    <tr>\n",
       "      <th>3</th>\n",
       "      <td>1200.0</td>\n",
       "      <td>0.0</td>\n",
       "    </tr>\n",
       "    <tr>\n",
       "      <th>4</th>\n",
       "      <td>171.0</td>\n",
       "      <td>0.0</td>\n",
       "    </tr>\n",
       "  </tbody>\n",
       "</table>\n",
       "</div>"
      ],
      "text/plain": [
       "     area  bedroom\n",
       "0  3633.0      4.0\n",
       "1  1620.0      3.0\n",
       "2  2077.0      3.0\n",
       "3  1200.0      0.0\n",
       "4   171.0      0.0"
      ]
     },
     "execution_count": 42,
     "metadata": {},
     "output_type": "execute_result"
    }
   ],
   "source": [
    "# Cluster on all or a selected subset of features\n",
    "df_ab = df[[\"area\", \"bedroom\"]]\n",
    "ab = df[[\"area\", \"bedroom\"]]\n",
    "ab.head()"
   ]
  },
  {
   "cell_type": "code",
   "execution_count": 9,
   "id": "b9ad4dbc",
   "metadata": {},
   "outputs": [
    {
     "data": {
      "text/plain": [
       "area       3633.0\n",
       "bedroom       4.0\n",
       "Name: 4, dtype: float64"
      ]
     },
     "execution_count": 9,
     "metadata": {},
     "output_type": "execute_result"
    }
   ],
   "source": [
    "ab.iloc[0]"
   ]
  },
  {
   "cell_type": "code",
   "execution_count": 10,
   "id": "b7125d7e",
   "metadata": {},
   "outputs": [],
   "source": [
    "#convert to an array and turn into float\n",
    "np_array = ab.values.astype(\"float32\", copy=False)"
   ]
  },
  {
   "cell_type": "code",
   "execution_count": 11,
   "id": "f34d503a",
   "metadata": {},
   "outputs": [
    {
     "data": {
      "text/plain": [
       "array([[0.5665263 , 0.5714286 ],\n",
       "       [0.25253472, 0.42857146],\n",
       "       [0.32381845, 0.42857146],\n",
       "       ...,\n",
       "       [0.48759943, 0.5714286 ],\n",
       "       [0.3077523 , 0.42857146],\n",
       "       [0.32896584, 0.5714286 ]], dtype=float32)"
      ]
     },
     "execution_count": 11,
     "metadata": {},
     "output_type": "execute_result"
    }
   ],
   "source": [
    "# MAKE the scaler\n",
    "mms = MinMaxScaler()\n",
    "\n",
    "# FIT/transform the scaler\n",
    "ab_scaled = mms.fit_transform(np_array)\n",
    "\n",
    "ab_scaled"
   ]
  },
  {
   "cell_type": "code",
   "execution_count": 31,
   "id": "d5e72afc",
   "metadata": {},
   "outputs": [],
   "source": [
    "# Now, let's add the scaled value columns back onto the dataframe\n",
    "scaled_columns = [\"Scaled_\" + column for column in ab.columns]"
   ]
  },
  {
   "cell_type": "code",
   "execution_count": 32,
   "id": "8c839a19",
   "metadata": {},
   "outputs": [],
   "source": [
    "# Save a copy of the original dataframe\n",
    "original_df = df.copy()"
   ]
  },
  {
   "cell_type": "code",
   "execution_count": 33,
   "id": "00bc721d",
   "metadata": {},
   "outputs": [],
   "source": [
    "# Create a dataframe containing the scaled array of values\n",
    "scaled_df = pd.DataFrame(ab_scaled, columns=scaled_columns)"
   ]
  },
  {
   "cell_type": "code",
   "execution_count": 34,
   "id": "27bb3c6c",
   "metadata": {},
   "outputs": [],
   "source": [
    "scaled_df = scaled_df[:100]"
   ]
  },
  {
   "cell_type": "code",
   "execution_count": 45,
   "id": "b3cef3d3",
   "metadata": {},
   "outputs": [],
   "source": [
    "# Merge the scaled and non-scaled values into one dataframe\n",
    "df_ab = df_ab[:100]"
   ]
  },
  {
   "cell_type": "code",
   "execution_count": 46,
   "id": "01cccf20",
   "metadata": {},
   "outputs": [
    {
     "data": {
      "text/html": [
       "<div>\n",
       "<style scoped>\n",
       "    .dataframe tbody tr th:only-of-type {\n",
       "        vertical-align: middle;\n",
       "    }\n",
       "\n",
       "    .dataframe tbody tr th {\n",
       "        vertical-align: top;\n",
       "    }\n",
       "\n",
       "    .dataframe thead th {\n",
       "        text-align: right;\n",
       "    }\n",
       "</style>\n",
       "<table border=\"1\" class=\"dataframe\">\n",
       "  <thead>\n",
       "    <tr style=\"text-align: right;\">\n",
       "      <th></th>\n",
       "      <th>area</th>\n",
       "      <th>bedroom</th>\n",
       "    </tr>\n",
       "  </thead>\n",
       "  <tbody>\n",
       "    <tr>\n",
       "      <th>0</th>\n",
       "      <td>3633.0</td>\n",
       "      <td>4.0</td>\n",
       "    </tr>\n",
       "    <tr>\n",
       "      <th>1</th>\n",
       "      <td>1620.0</td>\n",
       "      <td>3.0</td>\n",
       "    </tr>\n",
       "    <tr>\n",
       "      <th>2</th>\n",
       "      <td>2077.0</td>\n",
       "      <td>3.0</td>\n",
       "    </tr>\n",
       "    <tr>\n",
       "      <th>3</th>\n",
       "      <td>1200.0</td>\n",
       "      <td>0.0</td>\n",
       "    </tr>\n",
       "    <tr>\n",
       "      <th>4</th>\n",
       "      <td>171.0</td>\n",
       "      <td>0.0</td>\n",
       "    </tr>\n",
       "  </tbody>\n",
       "</table>\n",
       "</div>"
      ],
      "text/plain": [
       "     area  bedroom\n",
       "0  3633.0      4.0\n",
       "1  1620.0      3.0\n",
       "2  2077.0      3.0\n",
       "3  1200.0      0.0\n",
       "4   171.0      0.0"
      ]
     },
     "execution_count": 46,
     "metadata": {},
     "output_type": "execute_result"
    }
   ],
   "source": [
    "df_ab.head()"
   ]
  },
  {
   "cell_type": "code",
   "execution_count": 37,
   "id": "dc64345a",
   "metadata": {},
   "outputs": [],
   "source": [
    "ab_scaled = ab_scaled[:100]"
   ]
  },
  {
   "cell_type": "code",
   "execution_count": 47,
   "id": "c490b9b6",
   "metadata": {},
   "outputs": [],
   "source": [
    "# Make the object\n",
    "dbsc = DBSCAN(eps = .1, min_samples=10)"
   ]
  },
  {
   "cell_type": "code",
   "execution_count": 48,
   "id": "9d97f048",
   "metadata": {},
   "outputs": [
    {
     "data": {
      "text/plain": [
       "DBSCAN(eps=0.1, min_samples=10)"
      ]
     },
     "execution_count": 48,
     "metadata": {},
     "output_type": "execute_result"
    }
   ],
   "source": [
    "\n",
    "\n",
    "# Fit the object\n",
    "dbsc.fit(ab_scaled[:100])"
   ]
  },
  {
   "cell_type": "code",
   "execution_count": 49,
   "id": "7dce314d",
   "metadata": {},
   "outputs": [
    {
     "data": {
      "text/plain": [
       "array([ 1,  0,  0, -1, -1, -1,  0,  0,  0, -1,  0,  1,  0,  0,  1,  1,  1,\n",
       "        1, -1,  2,  1,  1,  2,  1,  0,  1,  1,  0, -1,  0,  0,  2,  2,  2,\n",
       "        0,  0,  1,  1,  0,  1, -1, -1,  2, -1, -1,  0,  0,  2,  0,  0,  2,\n",
       "        2,  2,  0,  2,  0,  0,  0,  0,  1,  0,  2,  1,  0,  0,  0,  0, -1,\n",
       "        2,  0,  0, -1,  0,  0,  0,  0,  1,  0,  1,  1,  0,  0,  0,  0,  2,\n",
       "        0,  0,  1,  0,  0,  1,  1,  0,  2,  2,  0,  1,  2,  0,  2])"
      ]
     },
     "execution_count": 49,
     "metadata": {},
     "output_type": "execute_result"
    }
   ],
   "source": [
    "dbsc.labels_"
   ]
  },
  {
   "cell_type": "code",
   "execution_count": 51,
   "id": "0f9e619a",
   "metadata": {},
   "outputs": [],
   "source": [
    "# Assign the cluster labels\n",
    "df_ab['ab_labels'] = dbsc.labels_"
   ]
  },
  {
   "cell_type": "code",
   "execution_count": 52,
   "id": "7fdbce32",
   "metadata": {},
   "outputs": [
    {
     "data": {
      "text/html": [
       "<div>\n",
       "<style scoped>\n",
       "    .dataframe tbody tr th:only-of-type {\n",
       "        vertical-align: middle;\n",
       "    }\n",
       "\n",
       "    .dataframe tbody tr th {\n",
       "        vertical-align: top;\n",
       "    }\n",
       "\n",
       "    .dataframe thead th {\n",
       "        text-align: right;\n",
       "    }\n",
       "</style>\n",
       "<table border=\"1\" class=\"dataframe\">\n",
       "  <thead>\n",
       "    <tr style=\"text-align: right;\">\n",
       "      <th></th>\n",
       "      <th>area</th>\n",
       "      <th>bedroom</th>\n",
       "      <th>ab_labels</th>\n",
       "    </tr>\n",
       "  </thead>\n",
       "  <tbody>\n",
       "    <tr>\n",
       "      <th>0</th>\n",
       "      <td>3633.0</td>\n",
       "      <td>4.0</td>\n",
       "      <td>1</td>\n",
       "    </tr>\n",
       "    <tr>\n",
       "      <th>1</th>\n",
       "      <td>1620.0</td>\n",
       "      <td>3.0</td>\n",
       "      <td>0</td>\n",
       "    </tr>\n",
       "    <tr>\n",
       "      <th>2</th>\n",
       "      <td>2077.0</td>\n",
       "      <td>3.0</td>\n",
       "      <td>0</td>\n",
       "    </tr>\n",
       "    <tr>\n",
       "      <th>3</th>\n",
       "      <td>1200.0</td>\n",
       "      <td>0.0</td>\n",
       "      <td>-1</td>\n",
       "    </tr>\n",
       "    <tr>\n",
       "      <th>4</th>\n",
       "      <td>171.0</td>\n",
       "      <td>0.0</td>\n",
       "      <td>-1</td>\n",
       "    </tr>\n",
       "    <tr>\n",
       "      <th>...</th>\n",
       "      <td>...</td>\n",
       "      <td>...</td>\n",
       "      <td>...</td>\n",
       "    </tr>\n",
       "    <tr>\n",
       "      <th>95</th>\n",
       "      <td>1144.0</td>\n",
       "      <td>3.0</td>\n",
       "      <td>0</td>\n",
       "    </tr>\n",
       "    <tr>\n",
       "      <th>96</th>\n",
       "      <td>2408.0</td>\n",
       "      <td>4.0</td>\n",
       "      <td>1</td>\n",
       "    </tr>\n",
       "    <tr>\n",
       "      <th>97</th>\n",
       "      <td>950.0</td>\n",
       "      <td>2.0</td>\n",
       "      <td>2</td>\n",
       "    </tr>\n",
       "    <tr>\n",
       "      <th>98</th>\n",
       "      <td>1400.0</td>\n",
       "      <td>3.0</td>\n",
       "      <td>0</td>\n",
       "    </tr>\n",
       "    <tr>\n",
       "      <th>99</th>\n",
       "      <td>1348.0</td>\n",
       "      <td>2.0</td>\n",
       "      <td>2</td>\n",
       "    </tr>\n",
       "  </tbody>\n",
       "</table>\n",
       "<p>100 rows × 3 columns</p>\n",
       "</div>"
      ],
      "text/plain": [
       "      area  bedroom  ab_labels\n",
       "0   3633.0      4.0          1\n",
       "1   1620.0      3.0          0\n",
       "2   2077.0      3.0          0\n",
       "3   1200.0      0.0         -1\n",
       "4    171.0      0.0         -1\n",
       "..     ...      ...        ...\n",
       "95  1144.0      3.0          0\n",
       "96  2408.0      4.0          1\n",
       "97   950.0      2.0          2\n",
       "98  1400.0      3.0          0\n",
       "99  1348.0      2.0          2\n",
       "\n",
       "[100 rows x 3 columns]"
      ]
     },
     "execution_count": 52,
     "metadata": {},
     "output_type": "execute_result"
    }
   ],
   "source": [
    "df_ab"
   ]
  },
  {
   "cell_type": "code",
   "execution_count": 54,
   "id": "651d2c82",
   "metadata": {},
   "outputs": [
    {
     "data": {
      "text/plain": [
       " 0    47\n",
       " 1    23\n",
       " 2    18\n",
       "-1    12\n",
       "Name: ab_labels, dtype: int64"
      ]
     },
     "execution_count": 54,
     "metadata": {},
     "output_type": "execute_result"
    }
   ],
   "source": [
    "#let's see what labels holds\n",
    "df_ab.ab_labels.value_counts()"
   ]
  },
  {
   "cell_type": "code",
   "execution_count": 55,
   "id": "acab8648",
   "metadata": {},
   "outputs": [
    {
     "data": {
      "image/png": "[encoded data removed]",
      "text/plain": [
       "<Figure size 640x480 with 1 Axes>"
      ]
     },
     "metadata": {},
     "output_type": "display_data"
    }
   ],
   "source": [
    "for combination in itertools.combinations(ab.columns, 2):\n",
    "    sns.scatterplot(df[combination[0]], df_ab[combination[1]], hue= df_ab.ab_labels)\n",
    "    plt.title(f\"{combination[0]} by {combination[1]} Cluster vs. Otliers\")\n",
    "    plt.show()"
   ]
  },
  {
   "cell_type": "code",
   "execution_count": null,
   "id": "5f613ebf",
   "metadata": {},
   "outputs": [],
   "source": []
  }
 ],
 "metadata": {
  "kernelspec": {
   "display_name": "Python 3 (ipykernel)",
   "language": "python",
   "name": "python3"
  },
  "language_info": {
   "codemirror_mode": {
    "name": "ipython",
    "version": 3
   },
   "file_extension": ".py",
   "mimetype": "text/x-python",
   "name": "python",
   "nbconvert_exporter": "python",
   "pygments_lexer": "ipython3",
   "version": "3.9.13"
  }
 },
 "nbformat": 4,
 "nbformat_minor": 5
}
