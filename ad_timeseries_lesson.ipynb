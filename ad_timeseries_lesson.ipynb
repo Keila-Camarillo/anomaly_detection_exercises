{
 "cells": [
  {
   "cell_type": "markdown",
   "id": "561910cd",
   "metadata": {},
   "source": [
    "# Time Series Anomaly Detection\n",
    "\n",
    "<u>Scenario</u>: Discover anomalies in number of web pages accessed in a day by a user. Is there a bot copying the curriculum?\n",
    "\n",
    "We will accomplish this by breaking down to the following tasks:\n",
    "\n",
    "1. Acquire the data\n",
    "1. Prepare the data\n",
    "1. Make the analysis process work over all users.\n",
    "    1. Compute necessary metrics to arrive at the final metric, %b (percent-b).\n",
    "    1. Add user id to the dataframe that contains all the metrics, including %b.\n",
    "    1. Filter to rows where %b indicates anomaly (i.e. > 1)\n",
    "    1. Append rows of anomalies of new user to previous users' anomalous activity.\n",
    "1. Turn the analysis process and calculations into a function that can be used to loop through for each user.\n",
    "1. Test the function on a single user.\n",
    "1. Analyze by looping over all users.\n",
    "\n",
    "\n",
    "Finally, we will do a quick sample of exploration of the anomalies. There is much more you can do!"
   ]
  },
  {
   "cell_type": "code",
   "execution_count": 1,
   "id": "e135ecdb",
   "metadata": {},
   "outputs": [],
   "source": [
    "import pandas as pd\n",
    "import numpy as np\n",
    "\n",
    "import matplotlib.pyplot as plt\n",
    "import seaborn as sns\n",
    "\n",
    "import env"
   ]
  },
  {
   "cell_type": "markdown",
   "id": "104d2ccc",
   "metadata": {},
   "source": [
    "## Acquire\n",
    "\n",
    "After doing some research, some experimentation of performing actions and watching the logs, we discovered what each of the fields represent. We then parse and name the fields accordingly."
   ]
  },
  {
   "cell_type": "code",
   "execution_count": 2,
   "id": "c7cb9b05",
   "metadata": {},
   "outputs": [],
   "source": [
    "# gather data from codeup database\n",
    "url = f'mysql+pymysql://{env.username}:{env.password}@{env.host}/curriculum_logs'\n",
    "\n",
    "query = '''\n",
    "SELECT date,\n",
    "       path as endpoint,\n",
    "       user_id,\n",
    "       cohort_id,\n",
    "       ip as source_ip\n",
    "FROM logs;\n",
    "'''"
   ]
  },
  {
   "cell_type": "code",
   "execution_count": 3,
   "id": "bdec8665",
   "metadata": {},
   "outputs": [],
   "source": [
    "df = pd.read_sql(query, url)"
   ]
  },
  {
   "cell_type": "code",
   "execution_count": 4,
   "id": "3e3cc8e7",
   "metadata": {},
   "outputs": [
    {
     "data": {
      "text/html": [
       "<div>\n",
       "<style scoped>\n",
       "    .dataframe tbody tr th:only-of-type {\n",
       "        vertical-align: middle;\n",
       "    }\n",
       "\n",
       "    .dataframe tbody tr th {\n",
       "        vertical-align: top;\n",
       "    }\n",
       "\n",
       "    .dataframe thead th {\n",
       "        text-align: right;\n",
       "    }\n",
       "</style>\n",
       "<table border=\"1\" class=\"dataframe\">\n",
       "  <thead>\n",
       "    <tr style=\"text-align: right;\">\n",
       "      <th></th>\n",
       "      <th>date</th>\n",
       "      <th>endpoint</th>\n",
       "      <th>user_id</th>\n",
       "      <th>cohort_id</th>\n",
       "      <th>source_ip</th>\n",
       "    </tr>\n",
       "  </thead>\n",
       "  <tbody>\n",
       "    <tr>\n",
       "      <th>0</th>\n",
       "      <td>2018-01-26</td>\n",
       "      <td>/</td>\n",
       "      <td>1</td>\n",
       "      <td>8.0</td>\n",
       "      <td>97.105.19.61</td>\n",
       "    </tr>\n",
       "    <tr>\n",
       "      <th>1</th>\n",
       "      <td>2018-01-26</td>\n",
       "      <td>java-ii</td>\n",
       "      <td>1</td>\n",
       "      <td>8.0</td>\n",
       "      <td>97.105.19.61</td>\n",
       "    </tr>\n",
       "    <tr>\n",
       "      <th>2</th>\n",
       "      <td>2018-01-26</td>\n",
       "      <td>java-ii/object-oriented-programming</td>\n",
       "      <td>1</td>\n",
       "      <td>8.0</td>\n",
       "      <td>97.105.19.61</td>\n",
       "    </tr>\n",
       "    <tr>\n",
       "      <th>3</th>\n",
       "      <td>2018-01-26</td>\n",
       "      <td>slides/object_oriented_programming</td>\n",
       "      <td>1</td>\n",
       "      <td>8.0</td>\n",
       "      <td>97.105.19.61</td>\n",
       "    </tr>\n",
       "    <tr>\n",
       "      <th>4</th>\n",
       "      <td>2018-01-26</td>\n",
       "      <td>javascript-i/conditionals</td>\n",
       "      <td>2</td>\n",
       "      <td>22.0</td>\n",
       "      <td>97.105.19.61</td>\n",
       "    </tr>\n",
       "  </tbody>\n",
       "</table>\n",
       "</div>"
      ],
      "text/plain": [
       "         date                             endpoint  user_id  cohort_id  \\\n",
       "0  2018-01-26                                    /        1        8.0   \n",
       "1  2018-01-26                              java-ii        1        8.0   \n",
       "2  2018-01-26  java-ii/object-oriented-programming        1        8.0   \n",
       "3  2018-01-26   slides/object_oriented_programming        1        8.0   \n",
       "4  2018-01-26            javascript-i/conditionals        2       22.0   \n",
       "\n",
       "      source_ip  \n",
       "0  97.105.19.61  \n",
       "1  97.105.19.61  \n",
       "2  97.105.19.61  \n",
       "3  97.105.19.61  \n",
       "4  97.105.19.61  "
      ]
     },
     "execution_count": 4,
     "metadata": {},
     "output_type": "execute_result"
    }
   ],
   "source": [
    "df.head()"
   ]
  },
  {
   "cell_type": "code",
   "execution_count": 5,
   "id": "51338c17",
   "metadata": {},
   "outputs": [
    {
     "name": "stdout",
     "output_type": "stream",
     "text": [
      "<class 'pandas.core.frame.DataFrame'>\n",
      "RangeIndex: 900223 entries, 0 to 900222\n",
      "Data columns (total 5 columns):\n",
      " #   Column     Non-Null Count   Dtype  \n",
      "---  ------     --------------   -----  \n",
      " 0   date       900223 non-null  object \n",
      " 1   endpoint   900222 non-null  object \n",
      " 2   user_id    900223 non-null  int64  \n",
      " 3   cohort_id  847330 non-null  float64\n",
      " 4   source_ip  900223 non-null  object \n",
      "dtypes: float64(1), int64(1), object(3)\n",
      "memory usage: 34.3+ MB\n"
     ]
    }
   ],
   "source": [
    "df.info()"
   ]
  },
  {
   "cell_type": "markdown",
   "id": "81c2829b",
   "metadata": {},
   "source": [
    "## Prepare"
   ]
  },
  {
   "cell_type": "markdown",
   "id": "875f28ff",
   "metadata": {},
   "source": [
    "just like we would for time series analysis! "
   ]
  },
  {
   "cell_type": "code",
   "execution_count": 6,
   "id": "aa4986e7",
   "metadata": {},
   "outputs": [],
   "source": [
    "# change date dtype to date dtype\n",
    "df.date = df.date.astype(\"datetime64\")"
   ]
  },
  {
   "cell_type": "code",
   "execution_count": 7,
   "id": "1beb910d",
   "metadata": {},
   "outputs": [],
   "source": [
    "# reset index to be the date\n",
    "df = df.set_index(\"date\")"
   ]
  },
  {
   "cell_type": "code",
   "execution_count": 8,
   "id": "fd4dd593",
   "metadata": {},
   "outputs": [],
   "source": [
    "# sort index \n",
    "df = df.sort_index()"
   ]
  },
  {
   "cell_type": "markdown",
   "id": "b7bbe448",
   "metadata": {},
   "source": [
    "No need to split because we are not modeling, we are using statistics to identify low probability cases."
   ]
  },
  {
   "cell_type": "markdown",
   "id": "711a4c1f",
   "metadata": {},
   "source": [
    "### Exponential Moving Average\n",
    "Simple Moving Average (SMA) time series are much less noisy than the time series of the original data points. The challenge with SMA, however, is that the values of SMA lag the original values. This means that changes in the trend are only seen with a delay (lag) of L time units. For datasets that contain rapid trend shifts, a SMA may simply be too slow to be useful. \n",
    "\n",
    "Exponential Moving Average (EMA) helps reduce the lag induced by the use of the SMA. It does this by putting more weight on more recent observations, while the SMA weights all observations equally.\n",
    "\n",
    "EMA function:\n",
    "\n",
    " $EMA_t = \\alpha *  (t_0 - EMA_{t-1}) + EMA_{t-1\n",
    "}$\n",
    "\n",
    "Where:\n",
    "\n",
    "- t<sub>0</sub> = Latest value\n",
    "- t<sub>−1</sub> = Previous value\n",
    "- EMA<sub>*t−1*</sub> = Exponential moving average of previous day\n",
    "- M = Number of time periods, span of the window\n",
    "- $\\alpha$ = multiplier = $2 \\over M+1$\n",
    "\n",
    "Instead of calculating EMA manually, we will use the pandas `ewm()` (Exponential Weighted functions) to compute our EMA. So we just need to define the following:\n",
    "\n",
    "M = `span` argument = number of time periods. We will try 7 days, 14 days, 30 days, and 90 days."
   ]
  },
  {
   "cell_type": "code",
   "execution_count": 11,
   "id": "31e484a1",
   "metadata": {},
   "outputs": [
    {
     "data": {
      "text/plain": [
       "date\n",
       "2018-01-26                                                   /\n",
       "2018-01-26                                             java-ii\n",
       "2018-01-26                 java-ii/object-oriented-programming\n",
       "2018-01-26                  slides/object_oriented_programming\n",
       "2018-01-26                           javascript-i/conditionals\n",
       "                                    ...                       \n",
       "2021-04-21                                jquery/personal-site\n",
       "2021-04-21                                   jquery/mapbox-api\n",
       "2021-04-21                             jquery/ajax/weather-map\n",
       "2021-04-21    anomaly-detection/discrete-probabilistic-methods\n",
       "2021-04-21                                   jquery/mapbox-api\n",
       "Name: endpoint, Length: 900223, dtype: object"
      ]
     },
     "execution_count": 11,
     "metadata": {},
     "output_type": "execute_result"
    }
   ],
   "source": [
    "# viewing endpoint column\n",
    "df.endpoint"
   ]
  },
  {
   "cell_type": "code",
   "execution_count": 15,
   "id": "0f745b12",
   "metadata": {},
   "outputs": [
    {
     "data": {
      "text/plain": [
       "date\n",
       "2018-01-26    572\n",
       "2018-01-27    230\n",
       "2018-01-28    170\n",
       "2018-01-29    830\n",
       "2018-01-30    652\n",
       "Freq: D, Name: endpoint, dtype: int64"
      ]
     },
     "execution_count": 15,
     "metadata": {},
     "output_type": "execute_result"
    }
   ],
   "source": [
    "# group the endpoint counts for the individual days\n",
    "pages = df.endpoint.resample('D').count()\n",
    "pages.head()"
   ]
  },
  {
   "cell_type": "code",
   "execution_count": 13,
   "id": "bfe6e937",
   "metadata": {},
   "outputs": [],
   "source": [
    "# viewing endpoints over 7 days\n",
    "ema_7d = pages.ewm(span=7).mean()"
   ]
  },
  {
   "cell_type": "markdown",
   "id": "6b89cf41",
   "metadata": {},
   "source": [
    "Notice how there are no missing values. `ewm()` will use as many values as are available to compute the mean. \n",
    "\n",
    "So if the span is 7 days, but there is only one day of data available (i.e. the first day), the EMA will equal the first value."
   ]
  },
  {
   "cell_type": "code",
   "execution_count": null,
   "id": "2c4de05f",
   "metadata": {},
   "outputs": [],
   "source": [
    "# viewing endpoints over 14 days\n",
    "ema_14d = pages.ewm(span=14).mean()"
   ]
  },
  {
   "cell_type": "code",
   "execution_count": null,
   "id": "38ea94f1",
   "metadata": {},
   "outputs": [],
   "source": [
    "# viewing endpoints over 30 days\n",
    "ema_30d = pages.ewm(span=30).mean()"
   ]
  },
  {
   "cell_type": "code",
   "execution_count": null,
   "id": "bad9399b",
   "metadata": {},
   "outputs": [],
   "source": [
    "# viewing endpoints over 90 days\n",
    "ema_90d = pages.ewm(span=90).mean()"
   ]
  },
  {
   "cell_type": "markdown",
   "id": "32b9aeae",
   "metadata": {},
   "source": [
    "> Remember! These are *exponential* moving averages, not simple!"
   ]
  },
  {
   "cell_type": "code",
   "execution_count": null,
   "id": "dc6abf43",
   "metadata": {},
   "outputs": [],
   "source": [
    "# viewing the spans on a plot\n",
    "fig, ax = plt.subplots(figsize=(16,8))\n",
    "\n",
    "ax.plot(pages.index, pages, label='Daily', alpha=.5)\n",
    "\n",
    "ax.plot(pages.index, ema_7d, label = '7-day EMA')\n",
    "ax.plot(pages.index, ema_14d, label = '14-day EMA')\n",
    "ax.plot(pages.index, ema_30d, label = '30-day EMA')\n",
    "ax.plot(pages.index, ema_90d, label = '90-day EMA')\n",
    "\n",
    "ax.legend(loc='best')\n",
    "ax.set_ylabel('Number of pages')\n",
    "\n",
    "plt.show()"
   ]
  },
  {
   "cell_type": "markdown",
   "id": "f377dae9",
   "metadata": {},
   "source": [
    "Let's look at a smaller date range to see how these EMAs react to changes in value:"
   ]
  },
  {
   "cell_type": "code",
   "execution_count": null,
   "id": "3376e82c",
   "metadata": {},
   "outputs": [],
   "source": [
    "# viewing the spans on a plot with the first 100 indexes\n",
    "fig, ax = plt.subplots(figsize=(16,8))\n",
    "\n",
    "ax.plot(pages.index[:100], pages[:100], label='Daily', alpha=.5)\n",
    "ax.plot(pages.index[:100], ema_7d[:100], label = '7-day EMA')\n",
    "ax.plot(pages.index[:100], ema_14d[:100], label = '14-day EMA')\n",
    "ax.plot(pages.index[:100], ema_30d[:100], label = '30-day EMA')\n",
    "ax.plot(pages.index[:100], ema_90d[:100], label = '90-day EMA')\n",
    "\n",
    "ax.legend(loc='best')\n",
    "ax.set_ylabel('Number of pages')\n",
    "\n",
    "plt.show()"
   ]
  },
  {
   "cell_type": "markdown",
   "id": "8764c10a",
   "metadata": {},
   "source": [
    "## Bollinger Bands\n",
    "\n",
    "- A volatility indicator commonly used in stock market, forex, and cryptocurrency trading.\n",
    "- Made up of 3 lines, the Upper Band (UB), the Lower Band (LB) and the Midband.\n",
    "- Based on the exponential moving average\n",
    "\n",
    "### Midband\n",
    "\n",
    "The Exponential Moving Average\n",
    "\n",
    "`midband = train.ewm(span=30).mean()`\n",
    "\n",
    "### Upper & Lower Band\n",
    "\n",
    "UB/LB = Midband +/- stdev * K\n",
    "\n",
    "K = the number of standard deviations to go up and down from the EMA\n",
    "\n",
    "`stdev = train.ewm(span=30).std()`\n",
    "\n",
    "### Bandwidth\n",
    "\n",
    "The width of the bands\n",
    "\n",
    "Bandwidth = (UB-LB) / midband * 100\n",
    "\n",
    "### %b, Percent Bandwidth\n",
    "\n",
    "Shows where the last value sits in relation to the bands.\n",
    "\n",
    "%b = last−LB / UB-LB\n",
    "\n",
    "- If %b > 1, data point lies above the upper band\n",
    "- If %b < 0, data point lies below the lower band\n",
    "- If %b == .5, data point lies on the midband."
   ]
  },
  {
   "cell_type": "code",
   "execution_count": 19,
   "id": "e8e273cb",
   "metadata": {},
   "outputs": [],
   "source": [
    "# set the span to 30 days and std to 3\n",
    "span = 30\n",
    "k = 3"
   ]
  },
  {
   "cell_type": "code",
   "execution_count": 22,
   "id": "9730dcea",
   "metadata": {},
   "outputs": [],
   "source": [
    "# calculates the ewm average of the pages column with a specified span of 30 \n",
    "# and returns a column representing the EWMA values.\n",
    "midband = pages.ewm(span=span).mean()"
   ]
  },
  {
   "cell_type": "code",
   "execution_count": 23,
   "id": "fbb96a9b",
   "metadata": {},
   "outputs": [
    {
     "data": {
      "text/plain": [
       "date\n",
       "2018-01-26           NaN\n",
       "2018-01-27    241.830519\n",
       "2018-01-28    213.878138\n",
       "2018-01-29    316.467837\n",
       "2018-01-30    284.479727\n",
       "Freq: D, Name: endpoint, dtype: float64"
      ]
     },
     "execution_count": 23,
     "metadata": {},
     "output_type": "execute_result"
    }
   ],
   "source": [
    "# calculates the ewm std of the pages column with a specified span of 30 \n",
    "# and returns a column representing the EWMA values.\n",
    "sd = pages.ewm(span=span).std()\n",
    "sd.head()"
   ]
  },
  {
   "cell_type": "code",
   "execution_count": 24,
   "id": "6673adc5",
   "metadata": {},
   "outputs": [],
   "source": [
    "# calculating the upperband and lower band\n",
    "ub = midband + sd * k\n",
    "lb = midband - sd * k"
   ]
  },
  {
   "cell_type": "code",
   "execution_count": 25,
   "id": "78356d81",
   "metadata": {},
   "outputs": [
    {
     "data": {
      "text/plain": [
       "date\n",
       "2018-01-26            NaN\n",
       "2018-01-27    1120.791557\n",
       "2018-01-28     956.773991\n",
       "2018-01-29    1406.405897\n",
       "2018-01-30    1354.808245\n",
       "Freq: D, Name: endpoint, dtype: float64"
      ]
     },
     "execution_count": 25,
     "metadata": {},
     "output_type": "execute_result"
    }
   ],
   "source": [
    "ub.head()"
   ]
  },
  {
   "cell_type": "code",
   "execution_count": 26,
   "id": "4eae5bce",
   "metadata": {},
   "outputs": [
    {
     "data": {
      "text/plain": [
       "date\n",
       "2018-01-26           NaN\n",
       "2018-01-27   -330.191557\n",
       "2018-01-28   -326.494835\n",
       "2018-01-29   -492.401124\n",
       "2018-01-30   -352.070116\n",
       "Freq: D, Name: endpoint, dtype: float64"
      ]
     },
     "execution_count": 26,
     "metadata": {},
     "output_type": "execute_result"
    }
   ],
   "source": [
    "lb.head()"
   ]
  },
  {
   "cell_type": "code",
   "execution_count": 28,
   "id": "965e1ee1",
   "metadata": {
    "scrolled": true
   },
   "outputs": [],
   "source": [
    "# combine the columns \n",
    "my_df = pd.concat([pages, midband, lb, ub], axis=1) "
   ]
  },
  {
   "cell_type": "code",
   "execution_count": 29,
   "id": "eb81c410",
   "metadata": {},
   "outputs": [],
   "source": [
    "# renaming columns\n",
    "my_df.columns = [\"pages\", \"midband\", \"lb\", \"ub\"]"
   ]
  },
  {
   "cell_type": "code",
   "execution_count": 30,
   "id": "7e7e5a21",
   "metadata": {},
   "outputs": [
    {
     "data": {
      "text/html": [
       "<div>\n",
       "<style scoped>\n",
       "    .dataframe tbody tr th:only-of-type {\n",
       "        vertical-align: middle;\n",
       "    }\n",
       "\n",
       "    .dataframe tbody tr th {\n",
       "        vertical-align: top;\n",
       "    }\n",
       "\n",
       "    .dataframe thead th {\n",
       "        text-align: right;\n",
       "    }\n",
       "</style>\n",
       "<table border=\"1\" class=\"dataframe\">\n",
       "  <thead>\n",
       "    <tr style=\"text-align: right;\">\n",
       "      <th></th>\n",
       "      <th>pages</th>\n",
       "      <th>midband</th>\n",
       "      <th>lb</th>\n",
       "      <th>ub</th>\n",
       "    </tr>\n",
       "    <tr>\n",
       "      <th>date</th>\n",
       "      <th></th>\n",
       "      <th></th>\n",
       "      <th></th>\n",
       "      <th></th>\n",
       "    </tr>\n",
       "  </thead>\n",
       "  <tbody>\n",
       "    <tr>\n",
       "      <th>2018-01-26</th>\n",
       "      <td>572</td>\n",
       "      <td>572.000000</td>\n",
       "      <td>NaN</td>\n",
       "      <td>NaN</td>\n",
       "    </tr>\n",
       "    <tr>\n",
       "      <th>2018-01-27</th>\n",
       "      <td>230</td>\n",
       "      <td>395.300000</td>\n",
       "      <td>-330.191557</td>\n",
       "      <td>1120.791557</td>\n",
       "    </tr>\n",
       "    <tr>\n",
       "      <th>2018-01-28</th>\n",
       "      <td>170</td>\n",
       "      <td>315.139578</td>\n",
       "      <td>-326.494835</td>\n",
       "      <td>956.773991</td>\n",
       "    </tr>\n",
       "    <tr>\n",
       "      <th>2018-01-29</th>\n",
       "      <td>830</td>\n",
       "      <td>457.002386</td>\n",
       "      <td>-492.401124</td>\n",
       "      <td>1406.405897</td>\n",
       "    </tr>\n",
       "    <tr>\n",
       "      <th>2018-01-30</th>\n",
       "      <td>652</td>\n",
       "      <td>501.369064</td>\n",
       "      <td>-352.070116</td>\n",
       "      <td>1354.808245</td>\n",
       "    </tr>\n",
       "  </tbody>\n",
       "</table>\n",
       "</div>"
      ],
      "text/plain": [
       "            pages     midband          lb           ub\n",
       "date                                                  \n",
       "2018-01-26    572  572.000000         NaN          NaN\n",
       "2018-01-27    230  395.300000 -330.191557  1120.791557\n",
       "2018-01-28    170  315.139578 -326.494835   956.773991\n",
       "2018-01-29    830  457.002386 -492.401124  1406.405897\n",
       "2018-01-30    652  501.369064 -352.070116  1354.808245"
      ]
     },
     "execution_count": 30,
     "metadata": {},
     "output_type": "execute_result"
    }
   ],
   "source": [
    "my_df.head()"
   ]
  },
  {
   "cell_type": "markdown",
   "id": "3d3c18e6",
   "metadata": {},
   "source": [
    "### Plot the bands"
   ]
  },
  {
   "cell_type": "code",
   "execution_count": 31,
   "id": "edc4dfda",
   "metadata": {
    "scrolled": false
   },
   "outputs": [
    {
     "data": {
      "image/png": "[encoded data removed]",
      "text/plain": [
       "<Figure size 1200x800 with 1 Axes>"
      ]
     },
     "metadata": {},
     "output_type": "display_data"
    }
   ],
   "source": [
    "# plot of ub, lb and midband plotted\n",
    "fig, ax = plt.subplots(figsize=(12,8))\n",
    "\n",
    "ax.plot(my_df.index, my_df.pages, label='Number of Pages')\n",
    "\n",
    "ax.plot(my_df.index, my_df.midband, label = '30-day EMA/midband')\n",
    "ax.plot(my_df.index, my_df.ub, label = 'Upper Band')\n",
    "ax.plot(my_df.index, my_df.lb, label = 'Lower Band')\n",
    "\n",
    "ax.legend(loc='best')\n",
    "ax.set_ylabel('Number of pages')\n",
    "\n",
    "plt.show()"
   ]
  },
  {
   "cell_type": "markdown",
   "id": "a794e256",
   "metadata": {},
   "source": [
    "### Compute %b"
   ]
  },
  {
   "cell_type": "markdown",
   "id": "d92c5c73",
   "metadata": {},
   "source": [
    "Each data point will have a %b value that represents its relative position within/around the bollinger bands. It answers the question: Where does this point sit relative to a simple range of expected values? \n",
    "\n",
    "We can add a new column that shows the %b for every record in the dataset (except the first because there are no bollinger bands available for that one record)\n",
    "\n",
    "%b = last−LB / UB-LB"
   ]
  },
  {
   "cell_type": "code",
   "execution_count": 33,
   "id": "13008b8c",
   "metadata": {},
   "outputs": [],
   "source": [
    "# calculate the %b\n",
    "my_df[\"pct_b\"] = (my_df.pages - my_df.lb) / (my_df.ub - my_df.lb)"
   ]
  },
  {
   "cell_type": "code",
   "execution_count": 34,
   "id": "cb425bf6",
   "metadata": {},
   "outputs": [
    {
     "data": {
      "text/html": [
       "<div>\n",
       "<style scoped>\n",
       "    .dataframe tbody tr th:only-of-type {\n",
       "        vertical-align: middle;\n",
       "    }\n",
       "\n",
       "    .dataframe tbody tr th {\n",
       "        vertical-align: top;\n",
       "    }\n",
       "\n",
       "    .dataframe thead th {\n",
       "        text-align: right;\n",
       "    }\n",
       "</style>\n",
       "<table border=\"1\" class=\"dataframe\">\n",
       "  <thead>\n",
       "    <tr style=\"text-align: right;\">\n",
       "      <th></th>\n",
       "      <th>pages</th>\n",
       "      <th>midband</th>\n",
       "      <th>lb</th>\n",
       "      <th>ub</th>\n",
       "      <th>pct_b</th>\n",
       "    </tr>\n",
       "    <tr>\n",
       "      <th>date</th>\n",
       "      <th></th>\n",
       "      <th></th>\n",
       "      <th></th>\n",
       "      <th></th>\n",
       "      <th></th>\n",
       "    </tr>\n",
       "  </thead>\n",
       "  <tbody>\n",
       "    <tr>\n",
       "      <th>2018-01-26</th>\n",
       "      <td>572</td>\n",
       "      <td>572.000000</td>\n",
       "      <td>NaN</td>\n",
       "      <td>NaN</td>\n",
       "      <td>NaN</td>\n",
       "    </tr>\n",
       "    <tr>\n",
       "      <th>2018-01-27</th>\n",
       "      <td>230</td>\n",
       "      <td>395.300000</td>\n",
       "      <td>-330.191557</td>\n",
       "      <td>1120.791557</td>\n",
       "      <td>0.386077</td>\n",
       "    </tr>\n",
       "    <tr>\n",
       "      <th>2018-01-28</th>\n",
       "      <td>170</td>\n",
       "      <td>315.139578</td>\n",
       "      <td>-326.494835</td>\n",
       "      <td>956.773991</td>\n",
       "      <td>0.386899</td>\n",
       "    </tr>\n",
       "    <tr>\n",
       "      <th>2018-01-29</th>\n",
       "      <td>830</td>\n",
       "      <td>457.002386</td>\n",
       "      <td>-492.401124</td>\n",
       "      <td>1406.405897</td>\n",
       "      <td>0.696438</td>\n",
       "    </tr>\n",
       "    <tr>\n",
       "      <th>2018-01-30</th>\n",
       "      <td>652</td>\n",
       "      <td>501.369064</td>\n",
       "      <td>-352.070116</td>\n",
       "      <td>1354.808245</td>\n",
       "      <td>0.588249</td>\n",
       "    </tr>\n",
       "  </tbody>\n",
       "</table>\n",
       "</div>"
      ],
      "text/plain": [
       "            pages     midband          lb           ub     pct_b\n",
       "date                                                            \n",
       "2018-01-26    572  572.000000         NaN          NaN       NaN\n",
       "2018-01-27    230  395.300000 -330.191557  1120.791557  0.386077\n",
       "2018-01-28    170  315.139578 -326.494835   956.773991  0.386899\n",
       "2018-01-29    830  457.002386 -492.401124  1406.405897  0.696438\n",
       "2018-01-30    652  501.369064 -352.070116  1354.808245  0.588249"
      ]
     },
     "execution_count": 34,
     "metadata": {},
     "output_type": "execute_result"
    }
   ],
   "source": [
    "my_df.head()"
   ]
  },
  {
   "cell_type": "markdown",
   "id": "ff26310b",
   "metadata": {},
   "source": [
    "Now, where do we see anomalies? We will search for %b values > 1. In this specific example, we don't need to search for values < 0 because a low extreme is not something we are concerned about. "
   ]
  },
  {
   "cell_type": "code",
   "execution_count": 35,
   "id": "949333f1",
   "metadata": {},
   "outputs": [
    {
     "data": {
      "text/html": [
       "<div>\n",
       "<style scoped>\n",
       "    .dataframe tbody tr th:only-of-type {\n",
       "        vertical-align: middle;\n",
       "    }\n",
       "\n",
       "    .dataframe tbody tr th {\n",
       "        vertical-align: top;\n",
       "    }\n",
       "\n",
       "    .dataframe thead th {\n",
       "        text-align: right;\n",
       "    }\n",
       "</style>\n",
       "<table border=\"1\" class=\"dataframe\">\n",
       "  <thead>\n",
       "    <tr style=\"text-align: right;\">\n",
       "      <th></th>\n",
       "      <th>pages</th>\n",
       "      <th>midband</th>\n",
       "      <th>lb</th>\n",
       "      <th>ub</th>\n",
       "      <th>pct_b</th>\n",
       "    </tr>\n",
       "    <tr>\n",
       "      <th>date</th>\n",
       "      <th></th>\n",
       "      <th></th>\n",
       "      <th></th>\n",
       "      <th></th>\n",
       "      <th></th>\n",
       "    </tr>\n",
       "  </thead>\n",
       "  <tbody>\n",
       "  </tbody>\n",
       "</table>\n",
       "</div>"
      ],
      "text/plain": [
       "Empty DataFrame\n",
       "Columns: [pages, midband, lb, ub, pct_b]\n",
       "Index: []"
      ]
     },
     "execution_count": 35,
     "metadata": {},
     "output_type": "execute_result"
    }
   ],
   "source": [
    "# filter for %b  greater than 1\n",
    "my_df[my_df.pct_b > 1]"
   ]
  },
  {
   "cell_type": "markdown",
   "id": "19501d33",
   "metadata": {},
   "source": [
    "No anomalies found. Remember, the cutoff is based on the arbitrary selection for K earlier. We could always pick a different K.\n",
    "\n",
    "Anyways great! There are no anomalies! Problem solved. \n",
    "\n",
    "...not so fast.\n",
    "\n",
    "During our preparation step we resampled the data to a daily period. The bollinger bands and %b are only looking for individual days where the overall aggregate log activity was extreme. If the number of users is large enough, then an individual who is scraping our data may not be extreme enough to push a single day that far from the EMA. \n",
    "\n",
    "We need to dig deeper. Lets look at our data on a user by user basis:"
   ]
  },
  {
   "cell_type": "code",
   "execution_count": 38,
   "id": "53e8acdf",
   "metadata": {},
   "outputs": [],
   "source": [
    "def acquire_logs(user=env.username, password=env.password, host=env.host):\n",
    "    \"\"\"Acquire curriculum logs from a MySQL database.\n",
    "\n",
    "    Args:\n",
    "        user (str, optional): The username for the MySQL database. Defaults to env.username.\n",
    "        password (str, optional): The password for the MySQL database. Defaults to env.password.\n",
    "        host (str, optional): The host address for the MySQL database. Defaults to env.host.\n",
    "\n",
    "    Returns:\n",
    "        pd.DataFrame: A DataFrame containing the acquired curriculum logs.\n",
    "\n",
    "    Raises:\n",
    "        ImportError: If the required libraries (pandas and pymysql) are not installed.\n",
    "        OperationalError: If there is an issue connecting to the MySQL database.\n",
    "\n",
    "    \"\"\"\n",
    "    url = f'mysql+pymysql://{user}:{password}@{host}/curriculum_logs'\n",
    "    query = '''\n",
    "    SELECT date,\n",
    "           path as endpoint,\n",
    "           user_id,\n",
    "           cohort_id,\n",
    "           ip as source_ip\n",
    "    FROM logs;\n",
    "    '''\n",
    "    url = f'mysql+pymysql://{env.username}:{env.password}@{env.host}/curriculum_logs'\n",
    "    query = '''\n",
    "    SELECT date,\n",
    "           path as endpoint,\n",
    "           user_id,\n",
    "           cohort_id,\n",
    "           ip as source_ip\n",
    "    FROM logs;\n",
    "    '''\n",
    "    df = pd.read_sql(query, url)\n",
    "    return df"
   ]
  },
  {
   "cell_type": "code",
   "execution_count": 39,
   "id": "c68f9afa",
   "metadata": {},
   "outputs": [],
   "source": [
    "def one_user_df_prep(df, user):\n",
    "    \"\"\"Prepare a DataFrame for a specific user.\n",
    "\n",
    "    Args:\n",
    "        df (pd.DataFrame): The original DataFrame containing user data.\n",
    "        user (str): The user ID for which the DataFrame is to be prepared.\n",
    "\n",
    "    Returns:\n",
    "        pd.Series: A Pandas Series containing the count of pages visited by the specified user per day.\n",
    "\n",
    "    \"\"\"\n",
    "    df = df[df.user_id == user].copy()\n",
    "    df.date = pd.to_datetime(df.date)\n",
    "    df = df.set_index(df.date)\n",
    "    df = df.sort_index()\n",
    "    pages_one_user = df['endpoint'].resample('d').count()\n",
    "    return pages_one_user"
   ]
  },
  {
   "cell_type": "code",
   "execution_count": 40,
   "id": "ee57337d",
   "metadata": {},
   "outputs": [],
   "source": [
    "def compute_pct_b(pages_one_user, span, k, user):\n",
    "    \"\"\"Compute the percentage bandwidth (pct_b) for a given user's page data.\n",
    "\n",
    "    Args:\n",
    "        pages_one_user (pd.Series): The user's page data.\n",
    "        span (int): The span parameter for the exponential weighted moving average (EWMA) calculations.\n",
    "        k (float): The scaling factor to determine the upper and lower bounds.\n",
    "        user (str): The ID or name of the user.\n",
    "\n",
    "    Returns:\n",
    "        pd.DataFrame: A DataFrame containing the user's page data along with the midband, upper bound (ub), \n",
    "                      lower bound (lb), and the percentage bandwidth (pct_b) for each data point.\n",
    "                      \n",
    "    \"\"\"\n",
    "    midband = pages_one_user.ewm(span=span).mean()\n",
    "    stdev = pages_one_user.ewm(span=span).std()\n",
    "    ub = midband + stdev*k\n",
    "    lb = midband - stdev*k\n",
    "    \n",
    "    my_df = pd.concat([pages_one_user, midband, ub, lb], axis=1)\n",
    "    my_df.columns = ['pages_one_user', 'midband', 'ub', 'lb']\n",
    "    \n",
    "    my_df['pct_b'] = (my_df['pages_one_user'] - my_df['lb'])/(my_df['ub'] - my_df['lb'])\n",
    "    my_df['user_id'] = user\n",
    "    return my_df"
   ]
  },
  {
   "cell_type": "code",
   "execution_count": 41,
   "id": "8fdea8e6",
   "metadata": {},
   "outputs": [],
   "source": [
    "def plot_bands(my_df, user):\n",
    "    \"\"\"Plot bands for number of pages against time.\n",
    "\n",
    "    Args:\n",
    "        my_df (pd.DataFrame): The DataFrame containing the data to be plotted.\n",
    "        user (str): The user for which the number of pages is plotted.\n",
    "\n",
    "    Returns:\n",
    "        None\n",
    "\n",
    "    \"\"\"\n",
    "    fig, ax = plt.subplots(figsize=(12,8))\n",
    "    ax.plot(my_df.index, my_df.pages_one_user, label='Number of Pages, User: '+str(user))\n",
    "    ax.plot(my_df.index, my_df.midband, label = 'EMA/midband')\n",
    "    ax.plot(my_df.index, my_df.ub, label = 'Upper Band')\n",
    "    ax.plot(my_df.index, my_df.lb, label = 'Lower Band')\n",
    "    ax.legend(loc='best')\n",
    "    ax.set_ylabel('Number of Pages')\n",
    "    plt.show()"
   ]
  },
  {
   "cell_type": "code",
   "execution_count": 42,
   "id": "983e9699",
   "metadata": {},
   "outputs": [],
   "source": [
    "def find_anomalies(df, user, span, weight, plot=False):\n",
    "    \"\"\"Find anomalies for a specific user in a DataFrame.\n",
    "\n",
    "    Args:\n",
    "        df (pd.DataFrame): The DataFrame containing the data.\n",
    "        user (str): The user for whom to find anomalies.\n",
    "        span (int): The span parameter for computing percent B values.\n",
    "        weight (float): The weight parameter for computing percent B values.\n",
    "        plot (bool, optional): Whether to plot the bands. Defaults to False.\n",
    "\n",
    "    Returns:\n",
    "        pd.DataFrame: A DataFrame containing the anomalies for the specified user.\n",
    "\n",
    "    \"\"\"\n",
    "    # Prepare DataFrame for the user\n",
    "    pages_one_user = one_user_df_prep(df, user)\n",
    "\n",
    "    # Compute percent B values\n",
    "    my_df = compute_pct_b(pages_one_user, span, weight, user)\n",
    "\n",
    "    # Plot bands if plot is True\n",
    "    if plot:\n",
    "        plot_bands(my_df, user)\n",
    "\n",
    "    # Return anomalies (percent B > 1)\n",
    "    return my_df[my_df.pct_b > 1]\n"
   ]
  },
  {
   "cell_type": "markdown",
   "id": "7761c3bb",
   "metadata": {},
   "source": [
    "# Using our functions:"
   ]
  },
  {
   "cell_type": "code",
   "execution_count": 43,
   "id": "91ebc5c2",
   "metadata": {},
   "outputs": [],
   "source": [
    "# get data\n",
    "df = acquire_logs()"
   ]
  },
  {
   "cell_type": "code",
   "execution_count": 44,
   "id": "bafd8398",
   "metadata": {},
   "outputs": [
    {
     "data": {
      "text/html": [
       "<div>\n",
       "<style scoped>\n",
       "    .dataframe tbody tr th:only-of-type {\n",
       "        vertical-align: middle;\n",
       "    }\n",
       "\n",
       "    .dataframe tbody tr th {\n",
       "        vertical-align: top;\n",
       "    }\n",
       "\n",
       "    .dataframe thead th {\n",
       "        text-align: right;\n",
       "    }\n",
       "</style>\n",
       "<table border=\"1\" class=\"dataframe\">\n",
       "  <thead>\n",
       "    <tr style=\"text-align: right;\">\n",
       "      <th></th>\n",
       "      <th>date</th>\n",
       "      <th>endpoint</th>\n",
       "      <th>user_id</th>\n",
       "      <th>cohort_id</th>\n",
       "      <th>source_ip</th>\n",
       "    </tr>\n",
       "  </thead>\n",
       "  <tbody>\n",
       "    <tr>\n",
       "      <th>0</th>\n",
       "      <td>2018-01-26</td>\n",
       "      <td>/</td>\n",
       "      <td>1</td>\n",
       "      <td>8.0</td>\n",
       "      <td>97.105.19.61</td>\n",
       "    </tr>\n",
       "    <tr>\n",
       "      <th>1</th>\n",
       "      <td>2018-01-26</td>\n",
       "      <td>java-ii</td>\n",
       "      <td>1</td>\n",
       "      <td>8.0</td>\n",
       "      <td>97.105.19.61</td>\n",
       "    </tr>\n",
       "    <tr>\n",
       "      <th>2</th>\n",
       "      <td>2018-01-26</td>\n",
       "      <td>java-ii/object-oriented-programming</td>\n",
       "      <td>1</td>\n",
       "      <td>8.0</td>\n",
       "      <td>97.105.19.61</td>\n",
       "    </tr>\n",
       "    <tr>\n",
       "      <th>3</th>\n",
       "      <td>2018-01-26</td>\n",
       "      <td>slides/object_oriented_programming</td>\n",
       "      <td>1</td>\n",
       "      <td>8.0</td>\n",
       "      <td>97.105.19.61</td>\n",
       "    </tr>\n",
       "    <tr>\n",
       "      <th>4</th>\n",
       "      <td>2018-01-26</td>\n",
       "      <td>javascript-i/conditionals</td>\n",
       "      <td>2</td>\n",
       "      <td>22.0</td>\n",
       "      <td>97.105.19.61</td>\n",
       "    </tr>\n",
       "  </tbody>\n",
       "</table>\n",
       "</div>"
      ],
      "text/plain": [
       "         date                             endpoint  user_id  cohort_id  \\\n",
       "0  2018-01-26                                    /        1        8.0   \n",
       "1  2018-01-26                              java-ii        1        8.0   \n",
       "2  2018-01-26  java-ii/object-oriented-programming        1        8.0   \n",
       "3  2018-01-26   slides/object_oriented_programming        1        8.0   \n",
       "4  2018-01-26            javascript-i/conditionals        2       22.0   \n",
       "\n",
       "      source_ip  \n",
       "0  97.105.19.61  \n",
       "1  97.105.19.61  \n",
       "2  97.105.19.61  \n",
       "3  97.105.19.61  \n",
       "4  97.105.19.61  "
      ]
     },
     "execution_count": 44,
     "metadata": {},
     "output_type": "execute_result"
    }
   ],
   "source": [
    "df.head()"
   ]
  },
  {
   "cell_type": "markdown",
   "id": "7fd78af8",
   "metadata": {},
   "source": [
    "#### Test function on a single user:"
   ]
  },
  {
   "cell_type": "code",
   "execution_count": 45,
   "id": "b6a32b5f",
   "metadata": {},
   "outputs": [],
   "source": [
    "# variables for function\n",
    "user=1\n",
    "span=30\n",
    "\n",
    "k=6"
   ]
  },
  {
   "cell_type": "code",
   "execution_count": 46,
   "id": "97cdb327",
   "metadata": {},
   "outputs": [
    {
     "data": {
      "text/html": [
       "<div>\n",
       "<style scoped>\n",
       "    .dataframe tbody tr th:only-of-type {\n",
       "        vertical-align: middle;\n",
       "    }\n",
       "\n",
       "    .dataframe tbody tr th {\n",
       "        vertical-align: top;\n",
       "    }\n",
       "\n",
       "    .dataframe thead th {\n",
       "        text-align: right;\n",
       "    }\n",
       "</style>\n",
       "<table border=\"1\" class=\"dataframe\">\n",
       "  <thead>\n",
       "    <tr style=\"text-align: right;\">\n",
       "      <th></th>\n",
       "      <th>pages_one_user</th>\n",
       "      <th>midband</th>\n",
       "      <th>ub</th>\n",
       "      <th>lb</th>\n",
       "      <th>pct_b</th>\n",
       "      <th>user_id</th>\n",
       "    </tr>\n",
       "    <tr>\n",
       "      <th>date</th>\n",
       "      <th></th>\n",
       "      <th></th>\n",
       "      <th></th>\n",
       "      <th></th>\n",
       "      <th></th>\n",
       "      <th></th>\n",
       "    </tr>\n",
       "  </thead>\n",
       "  <tbody>\n",
       "  </tbody>\n",
       "</table>\n",
       "</div>"
      ],
      "text/plain": [
       "Empty DataFrame\n",
       "Columns: [pages_one_user, midband, ub, lb, pct_b, user_id]\n",
       "Index: []"
      ]
     },
     "execution_count": 46,
     "metadata": {},
     "output_type": "execute_result"
    }
   ],
   "source": [
    "# anomalies for one user\n",
    "find_anomalies(df, user, span, k)"
   ]
  },
  {
   "cell_type": "markdown",
   "id": "2d64f6b6",
   "metadata": {},
   "source": [
    "No daily anomalies for user 1\n",
    "\n",
    "#### Use function in a loop examining all users:"
   ]
  },
  {
   "cell_type": "code",
   "execution_count": 47,
   "id": "edaa3bd4",
   "metadata": {},
   "outputs": [],
   "source": [
    "# anomalies for all users with std of 3.5\n",
    "k = 3.5\n",
    "\n",
    "anomalies = pd.DataFrame()\n",
    "for u in df.user_id.unique():\n",
    "#     print(u)\n",
    "    one_user = find_anomalies(df, u, span, k)\n",
    "# anomalies for one user\n",
    "    anomalies = pd.concat([anomalies, one_user])"
   ]
  },
  {
   "cell_type": "code",
   "execution_count": 48,
   "id": "0a78d3b9",
   "metadata": {},
   "outputs": [
    {
     "data": {
      "text/html": [
       "<div>\n",
       "<style scoped>\n",
       "    .dataframe tbody tr th:only-of-type {\n",
       "        vertical-align: middle;\n",
       "    }\n",
       "\n",
       "    .dataframe tbody tr th {\n",
       "        vertical-align: top;\n",
       "    }\n",
       "\n",
       "    .dataframe thead th {\n",
       "        text-align: right;\n",
       "    }\n",
       "</style>\n",
       "<table border=\"1\" class=\"dataframe\">\n",
       "  <thead>\n",
       "    <tr style=\"text-align: right;\">\n",
       "      <th></th>\n",
       "      <th>pages_one_user</th>\n",
       "      <th>midband</th>\n",
       "      <th>ub</th>\n",
       "      <th>lb</th>\n",
       "      <th>pct_b</th>\n",
       "      <th>user_id</th>\n",
       "    </tr>\n",
       "    <tr>\n",
       "      <th>date</th>\n",
       "      <th></th>\n",
       "      <th></th>\n",
       "      <th></th>\n",
       "      <th></th>\n",
       "      <th></th>\n",
       "      <th></th>\n",
       "    </tr>\n",
       "  </thead>\n",
       "  <tbody>\n",
       "    <tr>\n",
       "      <th>2019-01-29</th>\n",
       "      <td>44</td>\n",
       "      <td>3.623334</td>\n",
       "      <td>42.081344</td>\n",
       "      <td>-34.834677</td>\n",
       "      <td>1.024945</td>\n",
       "      <td>1</td>\n",
       "    </tr>\n",
       "    <tr>\n",
       "      <th>2019-07-08</th>\n",
       "      <td>101</td>\n",
       "      <td>8.248768</td>\n",
       "      <td>96.507472</td>\n",
       "      <td>-80.009936</td>\n",
       "      <td>1.025451</td>\n",
       "      <td>1</td>\n",
       "    </tr>\n",
       "    <tr>\n",
       "      <th>2018-10-15</th>\n",
       "      <td>9</td>\n",
       "      <td>0.581421</td>\n",
       "      <td>8.457414</td>\n",
       "      <td>-7.294571</td>\n",
       "      <td>1.034446</td>\n",
       "      <td>3</td>\n",
       "    </tr>\n",
       "    <tr>\n",
       "      <th>2019-01-09</th>\n",
       "      <td>4</td>\n",
       "      <td>0.262470</td>\n",
       "      <td>3.802115</td>\n",
       "      <td>-3.277175</td>\n",
       "      <td>1.027953</td>\n",
       "      <td>3</td>\n",
       "    </tr>\n",
       "    <tr>\n",
       "      <th>2019-04-06</th>\n",
       "      <td>2</td>\n",
       "      <td>0.129825</td>\n",
       "      <td>1.889712</td>\n",
       "      <td>-1.630061</td>\n",
       "      <td>1.031334</td>\n",
       "      <td>3</td>\n",
       "    </tr>\n",
       "    <tr>\n",
       "      <th>...</th>\n",
       "      <td>...</td>\n",
       "      <td>...</td>\n",
       "      <td>...</td>\n",
       "      <td>...</td>\n",
       "      <td>...</td>\n",
       "      <td>...</td>\n",
       "    </tr>\n",
       "    <tr>\n",
       "      <th>2021-01-24</th>\n",
       "      <td>7</td>\n",
       "      <td>0.574393</td>\n",
       "      <td>6.857226</td>\n",
       "      <td>-5.708440</td>\n",
       "      <td>1.011362</td>\n",
       "      <td>817</td>\n",
       "    </tr>\n",
       "    <tr>\n",
       "      <th>2021-03-25</th>\n",
       "      <td>59</td>\n",
       "      <td>6.824556</td>\n",
       "      <td>58.415342</td>\n",
       "      <td>-44.766230</td>\n",
       "      <td>1.005666</td>\n",
       "      <td>843</td>\n",
       "    </tr>\n",
       "    <tr>\n",
       "      <th>2021-02-23</th>\n",
       "      <td>67</td>\n",
       "      <td>8.229409</td>\n",
       "      <td>66.322904</td>\n",
       "      <td>-49.864086</td>\n",
       "      <td>1.005828</td>\n",
       "      <td>851</td>\n",
       "    </tr>\n",
       "    <tr>\n",
       "      <th>2021-04-06</th>\n",
       "      <td>19</td>\n",
       "      <td>1.348943</td>\n",
       "      <td>18.056879</td>\n",
       "      <td>-15.358994</td>\n",
       "      <td>1.028224</td>\n",
       "      <td>854</td>\n",
       "    </tr>\n",
       "    <tr>\n",
       "      <th>2021-03-25</th>\n",
       "      <td>15</td>\n",
       "      <td>1.021925</td>\n",
       "      <td>14.239722</td>\n",
       "      <td>-12.195871</td>\n",
       "      <td>1.028760</td>\n",
       "      <td>859</td>\n",
       "    </tr>\n",
       "  </tbody>\n",
       "</table>\n",
       "<p>1060 rows × 6 columns</p>\n",
       "</div>"
      ],
      "text/plain": [
       "            pages_one_user   midband         ub         lb     pct_b  user_id\n",
       "date                                                                         \n",
       "2019-01-29              44  3.623334  42.081344 -34.834677  1.024945        1\n",
       "2019-07-08             101  8.248768  96.507472 -80.009936  1.025451        1\n",
       "2018-10-15               9  0.581421   8.457414  -7.294571  1.034446        3\n",
       "2019-01-09               4  0.262470   3.802115  -3.277175  1.027953        3\n",
       "2019-04-06               2  0.129825   1.889712  -1.630061  1.031334        3\n",
       "...                    ...       ...        ...        ...       ...      ...\n",
       "2021-01-24               7  0.574393   6.857226  -5.708440  1.011362      817\n",
       "2021-03-25              59  6.824556  58.415342 -44.766230  1.005666      843\n",
       "2021-02-23              67  8.229409  66.322904 -49.864086  1.005828      851\n",
       "2021-04-06              19  1.348943  18.056879 -15.358994  1.028224      854\n",
       "2021-03-25              15  1.021925  14.239722 -12.195871  1.028760      859\n",
       "\n",
       "[1060 rows x 6 columns]"
      ]
     },
     "execution_count": 48,
     "metadata": {},
     "output_type": "execute_result"
    }
   ],
   "source": [
    "anomalies"
   ]
  },
  {
   "cell_type": "code",
   "execution_count": 49,
   "id": "bc5c1bc5",
   "metadata": {},
   "outputs": [
    {
     "data": {
      "text/html": [
       "<div>\n",
       "<style scoped>\n",
       "    .dataframe tbody tr th:only-of-type {\n",
       "        vertical-align: middle;\n",
       "    }\n",
       "\n",
       "    .dataframe tbody tr th {\n",
       "        vertical-align: top;\n",
       "    }\n",
       "\n",
       "    .dataframe thead th {\n",
       "        text-align: right;\n",
       "    }\n",
       "</style>\n",
       "<table border=\"1\" class=\"dataframe\">\n",
       "  <thead>\n",
       "    <tr style=\"text-align: right;\">\n",
       "      <th></th>\n",
       "      <th>pages_one_user</th>\n",
       "      <th>midband</th>\n",
       "      <th>ub</th>\n",
       "      <th>lb</th>\n",
       "      <th>pct_b</th>\n",
       "      <th>user_id</th>\n",
       "    </tr>\n",
       "    <tr>\n",
       "      <th>date</th>\n",
       "      <th></th>\n",
       "      <th></th>\n",
       "      <th></th>\n",
       "      <th></th>\n",
       "      <th></th>\n",
       "      <th></th>\n",
       "    </tr>\n",
       "  </thead>\n",
       "  <tbody>\n",
       "    <tr>\n",
       "      <th>2019-01-29</th>\n",
       "      <td>44</td>\n",
       "      <td>3.623334</td>\n",
       "      <td>42.081344</td>\n",
       "      <td>-34.834677</td>\n",
       "      <td>1.024945</td>\n",
       "      <td>1</td>\n",
       "    </tr>\n",
       "    <tr>\n",
       "      <th>2019-07-08</th>\n",
       "      <td>101</td>\n",
       "      <td>8.248768</td>\n",
       "      <td>96.507472</td>\n",
       "      <td>-80.009936</td>\n",
       "      <td>1.025451</td>\n",
       "      <td>1</td>\n",
       "    </tr>\n",
       "  </tbody>\n",
       "</table>\n",
       "</div>"
      ],
      "text/plain": [
       "            pages_one_user   midband         ub         lb     pct_b  user_id\n",
       "date                                                                         \n",
       "2019-01-29              44  3.623334  42.081344 -34.834677  1.024945        1\n",
       "2019-07-08             101  8.248768  96.507472 -80.009936  1.025451        1"
      ]
     },
     "execution_count": 49,
     "metadata": {},
     "output_type": "execute_result"
    }
   ],
   "source": [
    "# anomalies for one user\n",
    "find_anomalies(df, user, span, k)"
   ]
  },
  {
   "cell_type": "markdown",
   "id": "605aa57c",
   "metadata": {},
   "source": [
    "#### Are there users that show up more frequently than others?"
   ]
  },
  {
   "cell_type": "code",
   "execution_count": 50,
   "id": "2eeeb94b",
   "metadata": {},
   "outputs": [
    {
     "data": {
      "text/plain": [
       "88     12\n",
       "146    11\n",
       "80     11\n",
       "18     10\n",
       "291     9\n",
       "       ..\n",
       "526     1\n",
       "527     1\n",
       "528     1\n",
       "206     1\n",
       "859     1\n",
       "Name: user_id, Length: 413, dtype: int64"
      ]
     },
     "execution_count": 50,
     "metadata": {},
     "output_type": "execute_result"
    }
   ],
   "source": [
    "# user ids and the number of page hits for them\n",
    "anomalies.user_id.value_counts()"
   ]
  },
  {
   "cell_type": "markdown",
   "id": "fb592dc3",
   "metadata": {},
   "source": [
    "#### Let's plot user #88:"
   ]
  },
  {
   "cell_type": "code",
   "execution_count": 51,
   "id": "1d8e18e2",
   "metadata": {},
   "outputs": [
    {
     "data": {
      "text/plain": [
       "date\n",
       "2018-02-05    1\n",
       "2018-02-06    0\n",
       "2018-02-07    0\n",
       "2018-02-08    0\n",
       "2018-02-09    0\n",
       "             ..\n",
       "2021-01-25    0\n",
       "2021-01-26    0\n",
       "2021-01-27    0\n",
       "2021-01-28    0\n",
       "2021-01-29    3\n",
       "Freq: D, Name: endpoint, Length: 1090, dtype: int64"
      ]
     },
     "execution_count": 51,
     "metadata": {},
     "output_type": "execute_result"
    }
   ],
   "source": [
    "# checking user 88\n",
    "one_user_df_prep(df, 88)"
   ]
  },
  {
   "cell_type": "markdown",
   "id": "45314644",
   "metadata": {},
   "source": [
    "#### Lets sort by the page counts:"
   ]
  },
  {
   "cell_type": "code",
   "execution_count": 52,
   "id": "a0ddbb41",
   "metadata": {},
   "outputs": [
    {
     "data": {
      "text/html": [
       "<div>\n",
       "<style scoped>\n",
       "    .dataframe tbody tr th:only-of-type {\n",
       "        vertical-align: middle;\n",
       "    }\n",
       "\n",
       "    .dataframe tbody tr th {\n",
       "        vertical-align: top;\n",
       "    }\n",
       "\n",
       "    .dataframe thead th {\n",
       "        text-align: right;\n",
       "    }\n",
       "</style>\n",
       "<table border=\"1\" class=\"dataframe\">\n",
       "  <thead>\n",
       "    <tr style=\"text-align: right;\">\n",
       "      <th></th>\n",
       "      <th>pages_one_user</th>\n",
       "      <th>midband</th>\n",
       "      <th>ub</th>\n",
       "      <th>lb</th>\n",
       "      <th>pct_b</th>\n",
       "      <th>user_id</th>\n",
       "    </tr>\n",
       "    <tr>\n",
       "      <th>date</th>\n",
       "      <th></th>\n",
       "      <th></th>\n",
       "      <th></th>\n",
       "      <th></th>\n",
       "      <th></th>\n",
       "      <th></th>\n",
       "    </tr>\n",
       "  </thead>\n",
       "  <tbody>\n",
       "    <tr>\n",
       "      <th>2019-03-03</th>\n",
       "      <td>272</td>\n",
       "      <td>24.721632</td>\n",
       "      <td>266.780128</td>\n",
       "      <td>-217.336864</td>\n",
       "      <td>1.010782</td>\n",
       "      <td>341</td>\n",
       "    </tr>\n",
       "    <tr>\n",
       "      <th>2018-06-02</th>\n",
       "      <td>198</td>\n",
       "      <td>16.484863</td>\n",
       "      <td>188.766965</td>\n",
       "      <td>-155.797239</td>\n",
       "      <td>1.026796</td>\n",
       "      <td>138</td>\n",
       "    </tr>\n",
       "    <tr>\n",
       "      <th>2019-12-19</th>\n",
       "      <td>192</td>\n",
       "      <td>19.601776</td>\n",
       "      <td>187.231096</td>\n",
       "      <td>-148.027544</td>\n",
       "      <td>1.014225</td>\n",
       "      <td>526</td>\n",
       "    </tr>\n",
       "    <tr>\n",
       "      <th>2020-10-16</th>\n",
       "      <td>179</td>\n",
       "      <td>20.158062</td>\n",
       "      <td>173.720239</td>\n",
       "      <td>-133.404115</td>\n",
       "      <td>1.017191</td>\n",
       "      <td>658</td>\n",
       "    </tr>\n",
       "    <tr>\n",
       "      <th>2020-06-05</th>\n",
       "      <td>165</td>\n",
       "      <td>20.035882</td>\n",
       "      <td>163.037501</td>\n",
       "      <td>-122.965736</td>\n",
       "      <td>1.006862</td>\n",
       "      <td>521</td>\n",
       "    </tr>\n",
       "    <tr>\n",
       "      <th>...</th>\n",
       "      <td>...</td>\n",
       "      <td>...</td>\n",
       "      <td>...</td>\n",
       "      <td>...</td>\n",
       "      <td>...</td>\n",
       "      <td>...</td>\n",
       "    </tr>\n",
       "    <tr>\n",
       "      <th>2019-05-21</th>\n",
       "      <td>1</td>\n",
       "      <td>0.064519</td>\n",
       "      <td>0.939144</td>\n",
       "      <td>-0.810106</td>\n",
       "      <td>1.034790</td>\n",
       "      <td>19</td>\n",
       "    </tr>\n",
       "    <tr>\n",
       "      <th>2020-11-21</th>\n",
       "      <td>1</td>\n",
       "      <td>0.065202</td>\n",
       "      <td>0.959398</td>\n",
       "      <td>-0.828994</td>\n",
       "      <td>1.022703</td>\n",
       "      <td>410</td>\n",
       "    </tr>\n",
       "    <tr>\n",
       "      <th>2019-03-20</th>\n",
       "      <td>1</td>\n",
       "      <td>0.064516</td>\n",
       "      <td>0.939061</td>\n",
       "      <td>-0.810029</td>\n",
       "      <td>1.034841</td>\n",
       "      <td>126</td>\n",
       "    </tr>\n",
       "    <tr>\n",
       "      <th>2020-04-06</th>\n",
       "      <td>1</td>\n",
       "      <td>0.065386</td>\n",
       "      <td>0.946436</td>\n",
       "      <td>-0.815664</td>\n",
       "      <td>1.030398</td>\n",
       "      <td>361</td>\n",
       "    </tr>\n",
       "    <tr>\n",
       "      <th>2020-03-16</th>\n",
       "      <td>1</td>\n",
       "      <td>0.064566</td>\n",
       "      <td>0.940141</td>\n",
       "      <td>-0.811010</td>\n",
       "      <td>1.034183</td>\n",
       "      <td>200</td>\n",
       "    </tr>\n",
       "  </tbody>\n",
       "</table>\n",
       "<p>1060 rows × 6 columns</p>\n",
       "</div>"
      ],
      "text/plain": [
       "            pages_one_user    midband          ub          lb     pct_b  \\\n",
       "date                                                                      \n",
       "2019-03-03             272  24.721632  266.780128 -217.336864  1.010782   \n",
       "2018-06-02             198  16.484863  188.766965 -155.797239  1.026796   \n",
       "2019-12-19             192  19.601776  187.231096 -148.027544  1.014225   \n",
       "2020-10-16             179  20.158062  173.720239 -133.404115  1.017191   \n",
       "2020-06-05             165  20.035882  163.037501 -122.965736  1.006862   \n",
       "...                    ...        ...         ...         ...       ...   \n",
       "2019-05-21               1   0.064519    0.939144   -0.810106  1.034790   \n",
       "2020-11-21               1   0.065202    0.959398   -0.828994  1.022703   \n",
       "2019-03-20               1   0.064516    0.939061   -0.810029  1.034841   \n",
       "2020-04-06               1   0.065386    0.946436   -0.815664  1.030398   \n",
       "2020-03-16               1   0.064566    0.940141   -0.811010  1.034183   \n",
       "\n",
       "            user_id  \n",
       "date                 \n",
       "2019-03-03      341  \n",
       "2018-06-02      138  \n",
       "2019-12-19      526  \n",
       "2020-10-16      658  \n",
       "2020-06-05      521  \n",
       "...             ...  \n",
       "2019-05-21       19  \n",
       "2020-11-21      410  \n",
       "2019-03-20      126  \n",
       "2020-04-06      361  \n",
       "2020-03-16      200  \n",
       "\n",
       "[1060 rows x 6 columns]"
      ]
     },
     "execution_count": 52,
     "metadata": {},
     "output_type": "execute_result"
    }
   ],
   "source": [
    "# sorting values in decsending order based on the pages_one_user\n",
    "anomalies.sort_values(by=\"pages_one_user\", ascending=False)"
   ]
  },
  {
   "cell_type": "code",
   "execution_count": 53,
   "id": "0f0b981c",
   "metadata": {},
   "outputs": [
    {
     "data": {
      "text/plain": [
       "<AxesSubplot:xlabel='date'>"
      ]
     },
     "execution_count": 53,
     "metadata": {},
     "output_type": "execute_result"
    },
    {
     "data": {
      "image/png": "[encoded data removed]",
      "text/plain": [
       "<Figure size 640x480 with 1 Axes>"
      ]
     },
     "metadata": {},
     "output_type": "display_data"
    }
   ],
   "source": [
    "# plotting visual for 88\n",
    "one_user_df_prep(df, 88).plot()"
   ]
  },
  {
   "cell_type": "markdown",
   "id": "c16b4bce",
   "metadata": {},
   "source": [
    "#### Wow! User_id #341 looked at 272 pages in a single day. Lets plot their activity:"
   ]
  },
  {
   "cell_type": "code",
   "execution_count": 55,
   "id": "a358cb4b",
   "metadata": {},
   "outputs": [
    {
     "data": {
      "text/plain": [
       "<AxesSubplot:xlabel='date'>"
      ]
     },
     "execution_count": 55,
     "metadata": {},
     "output_type": "execute_result"
    },
    {
     "data": {
      "image/png": "[encoded data removed]",
      "text/plain": [
       "<Figure size 640x480 with 1 Axes>"
      ]
     },
     "metadata": {},
     "output_type": "display_data"
    }
   ],
   "source": [
    "# plotting visual for 341\n",
    "one_user_df_prep(df, 341).plot()"
   ]
  },
  {
   "cell_type": "code",
   "execution_count": null,
   "id": "7ecd19ac",
   "metadata": {},
   "outputs": [],
   "source": []
  },
  {
   "cell_type": "code",
   "execution_count": null,
   "id": "9ea7fb7c",
   "metadata": {},
   "outputs": [],
   "source": []
  }
 ],
 "metadata": {
  "kernelspec": {
   "display_name": "Python 3 (ipykernel)",
   "language": "python",
   "name": "python3"
  },
  "language_info": {
   "codemirror_mode": {
    "name": "ipython",
    "version": 3
   },
   "file_extension": ".py",
   "mimetype": "text/x-python",
   "name": "python",
   "nbconvert_exporter": "python",
   "pygments_lexer": "ipython3",
   "version": "3.9.13"
  }
 },
 "nbformat": 4,
 "nbformat_minor": 5
}
